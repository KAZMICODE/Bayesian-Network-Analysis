{
 "cells": [
  {
   "cell_type": "markdown",
   "id": "5da54ba9",
   "metadata": {},
   "source": [
    "# Mathematical Tools for Big Data Project"
   ]
  },
  {
   "cell_type": "markdown",
   "id": "e24f33b9",
   "metadata": {},
   "source": [
    "*by*  \n",
    "**Syed Muhammad Taqi Raza Kazmi** \n",
    "\n"
   ]
  },
  {
   "cell_type": "markdown",
   "id": "d5fea232",
   "metadata": {},
   "source": [
    "## 1- Introduction to the problem of study "
   ]
  },
  {
   "cell_type": "markdown",
   "id": "c93ed1f6",
   "metadata": {},
   "source": [
    "The selection of candidates for medical colleges in Assam is influenced by various factors. This study utilizes a dataset collected by Prof. Jiten Hazarika, containing information on candidates' performance in the Common Entrance Examination (CEE), and other variables of which we are choosing (as of our interest) coaching classes {within Assam, outside Assam or not}, medium of instruction at Class XII {ENGLISH, OTHERS or ASSAMESE}, percentages secured at Class X and XII standards, and parents' occupations. \n",
    "\n",
    "We aim to utilize Bayesian networks to model the variables affecting student performance in the CEE (Common Entrance Examination) and their conditional dependencies. Our objective is to identify patterns and insights that can enhance our understanding of how these variables are interconnected, ultimately categorizing student performance as average, good, very good, or excellent in the context of the CEE."
   ]
  },
  {
   "cell_type": "markdown",
   "id": "fafb74a3",
   "metadata": {},
   "source": [
    "## 2- Brief and general description of the approach and methods used"
   ]
  },
  {
   "cell_type": "markdown",
   "id": "3cfe57cf",
   "metadata": {},
   "source": [
    "In this study, we employ Bayesian networks as the primary methodological approach to analyze and interpret the complex dataset of candidates who qualified for the medical entrance examination in Assam. Bayesian networks are graphical models that represent the probabilistic relationships among a set of variables.\n",
    "#### Main steps would be :\n",
    "##### Data Preprocessing\n",
    "Involves cleaning and preprocessing the data to ensure its quality and consistency, which includes encoding categorical variables, and scaling numerical data to prepare it for analysis.\n",
    "##### Bayesian Network Modeling\n",
    "We construct a Bayesian network to model the probabilistic relationships among the variables by considering the conditional dependencies between variables. Nodes in the network represent the variables, while the edges signify the probabilistic dependencies between them.\n",
    "##### Inference and Analysis\n",
    "Using the Bayesian network, we perform probabilistic inference to estimate the conditional probabilities of various outcomes, such as the likelihood of a candidate's success based on different attributes."
   ]
  },
  {
   "cell_type": "markdown",
   "id": "6b14d2b9",
   "metadata": {},
   "source": [
    "## 3- Literature review of the problem and methods "
   ]
  },
  {
   "cell_type": "markdown",
   "id": "a3938928",
   "metadata": {},
   "source": [
    "#### 1)\n",
    "https://www.tandfonline.com/doi/full/10.1080/08957347.2022.2103134\n",
    "###### Using Bayesian Networks to Characterize Student Performance across Multiple Assessments of Individual Standards\n",
    "    This paper explores the use of Bayesian networks to analyze and summarize student performance across multiple modular assessments (referred to as mini-assessments) aligned with specific educational standards. The paper refers to understand how student performance on mini-assessments can be modeled using Bayesian networks, which are probabilistic graphical models. Two approaches are employed in the study:\n",
    "    1. A data-driven approach: In this approach, no constraints are imposed, and the network structure is learned directly from the data to reflect the empirical relationships between mini-assessments.\n",
    "    2. A learning trajectory (LT) approach: In this approach, constraints are imposed on the network structure to mirror the stages of a mathematical learning trajectory, providing insights into student learning progress.\n",
    "        Furthermore , it discusses the use of Bayesian networks in educational assessments, particularly in modeling relationships between sub-skills or knowledge components highlighting the advantages of using Bayesian networks for modeling student performance, providing a more detailed and interconnected understanding of the relationships between knowledge components. It also suggests potential applications of Bayesian networks in educational assessments, including on-the-fly inferences for educators, identifying important assessments, and validating expert-defined relationships between knowledge components.\n",
    "\n",
    "#### 2)\n",
    "https://link.springer.com/article/10.1007/s10479-022-04871-5\n",
    "###### A Bayesian network to analyse basketball players’ performances: a multivariate copula-based approach\n",
    "    This paper discusses the application of Bayesian networks (BNs) to model the joint distribution of various performance indicators of basketball players.It highlights the need for a multivariate approach to better understand the interrelationships among various performance metrics. The main objective is to identify the probabilistic relationships among these indicators and determine the key factors influencing a player's winning percentage. In addition, the structural learning process, based on the hill climbing algorithm with bootstrap resampling and model averaging, is discussed, along with the validation of the Gaussian Copula assumption. The paper also discusses the potential application of BNs in sports analytics, suggesting that they can help predict team and player performance, inform strategic decisions, and improve overall decision-making in sports. The main goal is to identify the main determinants of a player's winning percentage based on factors like effective field goal percentage, turnovers, offensive rebounding, and free throw attempt rate.\n",
    "\n",
    "#### 3)\n",
    "https://www.researchgate.net/publication/257811720_Student_Engagement_Modeling_Using_Bayesian_Networks\n",
    "###### Student Engagement Modeling Using Bayesian Networks    \n",
    "     This research paper addresses the challenge of modeling student engagement in computer-based scientific inquiry learning environments. Student engagement can be difficult to define and assess, and it fluctuates during the learning process. This study focuses on identifying variables related to engagement and constructing a Bayesian Network (BN) to capture the causal relationships among these variables. Two variations of the BN model were created and compared to other machine learning models for predictive accuracy.\n",
    "    The research highlights the positive correlation between student engagement and academic achievement, motivation, and a sense of belonging. However, measuring engagement's intrinsic properties remains challenging. Qualitative methods have been employed to identify factors affecting student engagement, but these methods are not scalable.\n",
    "    Bayesian Networks are used in this research as a modeling technique for student engagement. The construction of a BN involves the careful selection of relevant variables from the domain and defining their causal dependencies. This study represents an innovative application of BNs in student engagement modeling.\n",
    "    The research proposes two BN models with different arc directions to explore the causal dependencies between affect variables and overall student engagement. These models are compared to other data mining techniques, and the results suggest that the BN model with converging arcs is optimal, indicating that variables like belief, attention, goal, and confidence directly influence student engagement.However, the study has limitations, as it does not address temporal changes in student engagement, and the dataset is relatively small. Future work could involve modeling temporally variable engagement levels using Dynamic Bayesian Networks and collecting larger datasets for more robust analyses."
   ]
  },
  {
   "cell_type": "markdown",
   "id": "52cae077",
   "metadata": {},
   "source": [
    "## 4- Python imports and global configurations \n"
   ]
  },
  {
   "cell_type": "code",
   "execution_count": 1,
   "id": "5d47dda9",
   "metadata": {},
   "outputs": [
    {
     "name": "stdout",
     "output_type": "stream",
     "text": [
      "Requirement already satisfied: liac-arff in c:\\users\\hp\\anaconda3\\envs\\da2023\\lib\\site-packages (2.5.0)\n",
      "Note: you may need to restart the kernel to use updated packages.\n"
     ]
    }
   ],
   "source": [
    "pip install liac-arff"
   ]
  },
  {
   "cell_type": "code",
   "execution_count": 2,
   "id": "70fa18b5",
   "metadata": {},
   "outputs": [],
   "source": [
    "# Importing necessary libraries\n",
    "from scipy.io import arff   # AS OUR DATA SET was arff file\n",
    "# Data manipulation and analysis\n",
    "import pandas as pd\n",
    "# Data visualization\n",
    "import matplotlib.pyplot as plt"
   ]
  },
  {
   "cell_type": "code",
   "execution_count": 3,
   "id": "6308617b",
   "metadata": {},
   "outputs": [],
   "source": [
    "import numpy"
   ]
  },
  {
   "cell_type": "code",
   "execution_count": 4,
   "id": "5ceeabea",
   "metadata": {},
   "outputs": [],
   "source": [
    "#arff_file_path = 'C:/Users/Hp/0.0 Data Project/CEE_DATA.arff'\n",
    "data, meta = arff.loadarff('CEE_DATA.arff')"
   ]
  },
  {
   "cell_type": "code",
   "execution_count": 5,
   "id": "b19d6ca9",
   "metadata": {},
   "outputs": [
    {
     "data": {
      "text/html": [
       "<div>\n",
       "<style scoped>\n",
       "    .dataframe tbody tr th:only-of-type {\n",
       "        vertical-align: middle;\n",
       "    }\n",
       "\n",
       "    .dataframe tbody tr th {\n",
       "        vertical-align: top;\n",
       "    }\n",
       "\n",
       "    .dataframe thead th {\n",
       "        text-align: right;\n",
       "    }\n",
       "</style>\n",
       "<table border=\"1\" class=\"dataframe\">\n",
       "  <thead>\n",
       "    <tr style=\"text-align: right;\">\n",
       "      <th></th>\n",
       "      <th>Performance</th>\n",
       "      <th>Gender</th>\n",
       "      <th>Caste</th>\n",
       "      <th>coaching</th>\n",
       "      <th>time</th>\n",
       "      <th>Class_ten_education</th>\n",
       "      <th>twelve_education</th>\n",
       "      <th>medium</th>\n",
       "      <th>Class_ X_Percentage</th>\n",
       "      <th>Class_XII_Percentage</th>\n",
       "      <th>Father_occupation</th>\n",
       "      <th>Mother_occupation</th>\n",
       "    </tr>\n",
       "  </thead>\n",
       "  <tbody>\n",
       "    <tr>\n",
       "      <th>0</th>\n",
       "      <td>b'Excellent'</td>\n",
       "      <td>b'male'</td>\n",
       "      <td>b'General'</td>\n",
       "      <td>b'NO'</td>\n",
       "      <td>b'ONE'</td>\n",
       "      <td>b'SEBA'</td>\n",
       "      <td>b'AHSEC'</td>\n",
       "      <td>b'ENGLISH'</td>\n",
       "      <td>b'Excellent'</td>\n",
       "      <td>b'Excellent'</td>\n",
       "      <td>b'DOCTOR'</td>\n",
       "      <td>b'OTHERS'</td>\n",
       "    </tr>\n",
       "    <tr>\n",
       "      <th>1</th>\n",
       "      <td>b'Excellent'</td>\n",
       "      <td>b'male'</td>\n",
       "      <td>b'OBC'</td>\n",
       "      <td>b'WA'</td>\n",
       "      <td>b'TWO'</td>\n",
       "      <td>b'SEBA'</td>\n",
       "      <td>b'AHSEC'</td>\n",
       "      <td>b'OTHERS'</td>\n",
       "      <td>b'Excellent'</td>\n",
       "      <td>b'Excellent'</td>\n",
       "      <td>b'SCHOOL_TEACHER'</td>\n",
       "      <td>b'HOUSE_WIFE'</td>\n",
       "    </tr>\n",
       "    <tr>\n",
       "      <th>2</th>\n",
       "      <td>b'Excellent'</td>\n",
       "      <td>b'male'</td>\n",
       "      <td>b'OBC'</td>\n",
       "      <td>b'OA'</td>\n",
       "      <td>b'TWO'</td>\n",
       "      <td>b'OTHERS'</td>\n",
       "      <td>b'CBSE'</td>\n",
       "      <td>b'ENGLISH'</td>\n",
       "      <td>b'Excellent'</td>\n",
       "      <td>b'Excellent'</td>\n",
       "      <td>b'BUSINESS'</td>\n",
       "      <td>b'HOUSE_WIFE'</td>\n",
       "    </tr>\n",
       "    <tr>\n",
       "      <th>3</th>\n",
       "      <td>b'Excellent'</td>\n",
       "      <td>b'male'</td>\n",
       "      <td>b'General'</td>\n",
       "      <td>b'WA'</td>\n",
       "      <td>b'ONE'</td>\n",
       "      <td>b'SEBA'</td>\n",
       "      <td>b'AHSEC'</td>\n",
       "      <td>b'OTHERS'</td>\n",
       "      <td>b'Excellent'</td>\n",
       "      <td>b'Excellent'</td>\n",
       "      <td>b'SCHOOL_TEACHER'</td>\n",
       "      <td>b'SCHOOL_TEACHER'</td>\n",
       "    </tr>\n",
       "    <tr>\n",
       "      <th>4</th>\n",
       "      <td>b'Excellent'</td>\n",
       "      <td>b'male'</td>\n",
       "      <td>b'General'</td>\n",
       "      <td>b'OA'</td>\n",
       "      <td>b'TWO'</td>\n",
       "      <td>b'SEBA'</td>\n",
       "      <td>b'CBSE'</td>\n",
       "      <td>b'ENGLISH'</td>\n",
       "      <td>b'Excellent'</td>\n",
       "      <td>b'Excellent'</td>\n",
       "      <td>b'COLLEGE_TEACHER'</td>\n",
       "      <td>b'HOUSE_WIFE'</td>\n",
       "    </tr>\n",
       "    <tr>\n",
       "      <th>...</th>\n",
       "      <td>...</td>\n",
       "      <td>...</td>\n",
       "      <td>...</td>\n",
       "      <td>...</td>\n",
       "      <td>...</td>\n",
       "      <td>...</td>\n",
       "      <td>...</td>\n",
       "      <td>...</td>\n",
       "      <td>...</td>\n",
       "      <td>...</td>\n",
       "      <td>...</td>\n",
       "      <td>...</td>\n",
       "    </tr>\n",
       "    <tr>\n",
       "      <th>661</th>\n",
       "      <td>b'Average'</td>\n",
       "      <td>b'female'</td>\n",
       "      <td>b'ST'</td>\n",
       "      <td>b'WA'</td>\n",
       "      <td>b'ONE'</td>\n",
       "      <td>b'SEBA'</td>\n",
       "      <td>b'AHSEC'</td>\n",
       "      <td>b'ENGLISH'</td>\n",
       "      <td>b'Good'</td>\n",
       "      <td>b'Vg'</td>\n",
       "      <td>b'OTHERS'</td>\n",
       "      <td>b'HOUSE_WIFE'</td>\n",
       "    </tr>\n",
       "    <tr>\n",
       "      <th>662</th>\n",
       "      <td>b'Average'</td>\n",
       "      <td>b'male'</td>\n",
       "      <td>b'ST'</td>\n",
       "      <td>b'WA'</td>\n",
       "      <td>b'THREE'</td>\n",
       "      <td>b'SEBA'</td>\n",
       "      <td>b'AHSEC'</td>\n",
       "      <td>b'ENGLISH'</td>\n",
       "      <td>b'Vg'</td>\n",
       "      <td>b'Good'</td>\n",
       "      <td>b'CULTIVATOR'</td>\n",
       "      <td>b'HOUSE_WIFE'</td>\n",
       "    </tr>\n",
       "    <tr>\n",
       "      <th>663</th>\n",
       "      <td>b'Average'</td>\n",
       "      <td>b'male'</td>\n",
       "      <td>b'ST'</td>\n",
       "      <td>b'WA'</td>\n",
       "      <td>b'TWO'</td>\n",
       "      <td>b'SEBA'</td>\n",
       "      <td>b'CBSE'</td>\n",
       "      <td>b'ENGLISH'</td>\n",
       "      <td>b'Good'</td>\n",
       "      <td>b'Vg'</td>\n",
       "      <td>b'OTHERS'</td>\n",
       "      <td>b'SCHOOL_TEACHER'</td>\n",
       "    </tr>\n",
       "    <tr>\n",
       "      <th>664</th>\n",
       "      <td>b'Average'</td>\n",
       "      <td>b'male'</td>\n",
       "      <td>b'ST'</td>\n",
       "      <td>b'WA'</td>\n",
       "      <td>b'THREE'</td>\n",
       "      <td>b'SEBA'</td>\n",
       "      <td>b'AHSEC'</td>\n",
       "      <td>b'ENGLISH'</td>\n",
       "      <td>b'Good'</td>\n",
       "      <td>b'Good'</td>\n",
       "      <td>b'SCHOOL_TEACHER'</td>\n",
       "      <td>b'HOUSE_WIFE'</td>\n",
       "    </tr>\n",
       "    <tr>\n",
       "      <th>665</th>\n",
       "      <td>b'Average'</td>\n",
       "      <td>b'female'</td>\n",
       "      <td>b'ST'</td>\n",
       "      <td>b'NO'</td>\n",
       "      <td>b'ONE'</td>\n",
       "      <td>b'SEBA'</td>\n",
       "      <td>b'CBSE'</td>\n",
       "      <td>b'ENGLISH'</td>\n",
       "      <td>b'Vg'</td>\n",
       "      <td>b'Good'</td>\n",
       "      <td>b'BUSINESS'</td>\n",
       "      <td>b'OTHERS'</td>\n",
       "    </tr>\n",
       "  </tbody>\n",
       "</table>\n",
       "<p>666 rows × 12 columns</p>\n",
       "</div>"
      ],
      "text/plain": [
       "      Performance     Gender       Caste coaching      time  \\\n",
       "0    b'Excellent'    b'male'  b'General'    b'NO'    b'ONE'   \n",
       "1    b'Excellent'    b'male'      b'OBC'    b'WA'    b'TWO'   \n",
       "2    b'Excellent'    b'male'      b'OBC'    b'OA'    b'TWO'   \n",
       "3    b'Excellent'    b'male'  b'General'    b'WA'    b'ONE'   \n",
       "4    b'Excellent'    b'male'  b'General'    b'OA'    b'TWO'   \n",
       "..            ...        ...         ...      ...       ...   \n",
       "661    b'Average'  b'female'       b'ST'    b'WA'    b'ONE'   \n",
       "662    b'Average'    b'male'       b'ST'    b'WA'  b'THREE'   \n",
       "663    b'Average'    b'male'       b'ST'    b'WA'    b'TWO'   \n",
       "664    b'Average'    b'male'       b'ST'    b'WA'  b'THREE'   \n",
       "665    b'Average'  b'female'       b'ST'    b'NO'    b'ONE'   \n",
       "\n",
       "    Class_ten_education twelve_education      medium Class_ X_Percentage  \\\n",
       "0               b'SEBA'         b'AHSEC'  b'ENGLISH'        b'Excellent'   \n",
       "1               b'SEBA'         b'AHSEC'   b'OTHERS'        b'Excellent'   \n",
       "2             b'OTHERS'          b'CBSE'  b'ENGLISH'        b'Excellent'   \n",
       "3               b'SEBA'         b'AHSEC'   b'OTHERS'        b'Excellent'   \n",
       "4               b'SEBA'          b'CBSE'  b'ENGLISH'        b'Excellent'   \n",
       "..                  ...              ...         ...                 ...   \n",
       "661             b'SEBA'         b'AHSEC'  b'ENGLISH'             b'Good'   \n",
       "662             b'SEBA'         b'AHSEC'  b'ENGLISH'               b'Vg'   \n",
       "663             b'SEBA'          b'CBSE'  b'ENGLISH'             b'Good'   \n",
       "664             b'SEBA'         b'AHSEC'  b'ENGLISH'             b'Good'   \n",
       "665             b'SEBA'          b'CBSE'  b'ENGLISH'               b'Vg'   \n",
       "\n",
       "    Class_XII_Percentage   Father_occupation  Mother_occupation  \n",
       "0           b'Excellent'           b'DOCTOR'          b'OTHERS'  \n",
       "1           b'Excellent'   b'SCHOOL_TEACHER'      b'HOUSE_WIFE'  \n",
       "2           b'Excellent'         b'BUSINESS'      b'HOUSE_WIFE'  \n",
       "3           b'Excellent'   b'SCHOOL_TEACHER'  b'SCHOOL_TEACHER'  \n",
       "4           b'Excellent'  b'COLLEGE_TEACHER'      b'HOUSE_WIFE'  \n",
       "..                   ...                 ...                ...  \n",
       "661                b'Vg'           b'OTHERS'      b'HOUSE_WIFE'  \n",
       "662              b'Good'       b'CULTIVATOR'      b'HOUSE_WIFE'  \n",
       "663                b'Vg'           b'OTHERS'  b'SCHOOL_TEACHER'  \n",
       "664              b'Good'   b'SCHOOL_TEACHER'      b'HOUSE_WIFE'  \n",
       "665              b'Good'         b'BUSINESS'          b'OTHERS'  \n",
       "\n",
       "[666 rows x 12 columns]"
      ]
     },
     "execution_count": 5,
     "metadata": {},
     "output_type": "execute_result"
    }
   ],
   "source": [
    "df = pd.DataFrame(data)\n",
    "df"
   ]
  },
  {
   "cell_type": "code",
   "execution_count": 6,
   "id": "a436dbe7",
   "metadata": {},
   "outputs": [
    {
     "data": {
      "text/html": [
       "<div>\n",
       "<style scoped>\n",
       "    .dataframe tbody tr th:only-of-type {\n",
       "        vertical-align: middle;\n",
       "    }\n",
       "\n",
       "    .dataframe tbody tr th {\n",
       "        vertical-align: top;\n",
       "    }\n",
       "\n",
       "    .dataframe thead th {\n",
       "        text-align: right;\n",
       "    }\n",
       "</style>\n",
       "<table border=\"1\" class=\"dataframe\">\n",
       "  <thead>\n",
       "    <tr style=\"text-align: right;\">\n",
       "      <th></th>\n",
       "      <th>Performance</th>\n",
       "      <th>Gender</th>\n",
       "      <th>Caste</th>\n",
       "      <th>coaching</th>\n",
       "      <th>time</th>\n",
       "      <th>Class_ten_education</th>\n",
       "      <th>twelve_education</th>\n",
       "      <th>medium</th>\n",
       "      <th>Class_ X_Percentage</th>\n",
       "      <th>Class_XII_Percentage</th>\n",
       "      <th>Father_occupation</th>\n",
       "      <th>Mother_occupation</th>\n",
       "    </tr>\n",
       "  </thead>\n",
       "  <tbody>\n",
       "    <tr>\n",
       "      <th>0</th>\n",
       "      <td>Excellent</td>\n",
       "      <td>male</td>\n",
       "      <td>General</td>\n",
       "      <td>NO</td>\n",
       "      <td>ONE</td>\n",
       "      <td>SEBA</td>\n",
       "      <td>AHSEC</td>\n",
       "      <td>ENGLISH</td>\n",
       "      <td>Excellent</td>\n",
       "      <td>Excellent</td>\n",
       "      <td>DOCTOR</td>\n",
       "      <td>OTHERS</td>\n",
       "    </tr>\n",
       "    <tr>\n",
       "      <th>1</th>\n",
       "      <td>Excellent</td>\n",
       "      <td>male</td>\n",
       "      <td>OBC</td>\n",
       "      <td>WA</td>\n",
       "      <td>TWO</td>\n",
       "      <td>SEBA</td>\n",
       "      <td>AHSEC</td>\n",
       "      <td>OTHERS</td>\n",
       "      <td>Excellent</td>\n",
       "      <td>Excellent</td>\n",
       "      <td>SCHOOL_TEACHER</td>\n",
       "      <td>HOUSE_WIFE</td>\n",
       "    </tr>\n",
       "    <tr>\n",
       "      <th>2</th>\n",
       "      <td>Excellent</td>\n",
       "      <td>male</td>\n",
       "      <td>OBC</td>\n",
       "      <td>OA</td>\n",
       "      <td>TWO</td>\n",
       "      <td>OTHERS</td>\n",
       "      <td>CBSE</td>\n",
       "      <td>ENGLISH</td>\n",
       "      <td>Excellent</td>\n",
       "      <td>Excellent</td>\n",
       "      <td>BUSINESS</td>\n",
       "      <td>HOUSE_WIFE</td>\n",
       "    </tr>\n",
       "    <tr>\n",
       "      <th>3</th>\n",
       "      <td>Excellent</td>\n",
       "      <td>male</td>\n",
       "      <td>General</td>\n",
       "      <td>WA</td>\n",
       "      <td>ONE</td>\n",
       "      <td>SEBA</td>\n",
       "      <td>AHSEC</td>\n",
       "      <td>OTHERS</td>\n",
       "      <td>Excellent</td>\n",
       "      <td>Excellent</td>\n",
       "      <td>SCHOOL_TEACHER</td>\n",
       "      <td>SCHOOL_TEACHER</td>\n",
       "    </tr>\n",
       "    <tr>\n",
       "      <th>4</th>\n",
       "      <td>Excellent</td>\n",
       "      <td>male</td>\n",
       "      <td>General</td>\n",
       "      <td>OA</td>\n",
       "      <td>TWO</td>\n",
       "      <td>SEBA</td>\n",
       "      <td>CBSE</td>\n",
       "      <td>ENGLISH</td>\n",
       "      <td>Excellent</td>\n",
       "      <td>Excellent</td>\n",
       "      <td>COLLEGE_TEACHER</td>\n",
       "      <td>HOUSE_WIFE</td>\n",
       "    </tr>\n",
       "    <tr>\n",
       "      <th>...</th>\n",
       "      <td>...</td>\n",
       "      <td>...</td>\n",
       "      <td>...</td>\n",
       "      <td>...</td>\n",
       "      <td>...</td>\n",
       "      <td>...</td>\n",
       "      <td>...</td>\n",
       "      <td>...</td>\n",
       "      <td>...</td>\n",
       "      <td>...</td>\n",
       "      <td>...</td>\n",
       "      <td>...</td>\n",
       "    </tr>\n",
       "    <tr>\n",
       "      <th>661</th>\n",
       "      <td>Average</td>\n",
       "      <td>female</td>\n",
       "      <td>ST</td>\n",
       "      <td>WA</td>\n",
       "      <td>ONE</td>\n",
       "      <td>SEBA</td>\n",
       "      <td>AHSEC</td>\n",
       "      <td>ENGLISH</td>\n",
       "      <td>Good</td>\n",
       "      <td>Vg</td>\n",
       "      <td>OTHERS</td>\n",
       "      <td>HOUSE_WIFE</td>\n",
       "    </tr>\n",
       "    <tr>\n",
       "      <th>662</th>\n",
       "      <td>Average</td>\n",
       "      <td>male</td>\n",
       "      <td>ST</td>\n",
       "      <td>WA</td>\n",
       "      <td>THREE</td>\n",
       "      <td>SEBA</td>\n",
       "      <td>AHSEC</td>\n",
       "      <td>ENGLISH</td>\n",
       "      <td>Vg</td>\n",
       "      <td>Good</td>\n",
       "      <td>CULTIVATOR</td>\n",
       "      <td>HOUSE_WIFE</td>\n",
       "    </tr>\n",
       "    <tr>\n",
       "      <th>663</th>\n",
       "      <td>Average</td>\n",
       "      <td>male</td>\n",
       "      <td>ST</td>\n",
       "      <td>WA</td>\n",
       "      <td>TWO</td>\n",
       "      <td>SEBA</td>\n",
       "      <td>CBSE</td>\n",
       "      <td>ENGLISH</td>\n",
       "      <td>Good</td>\n",
       "      <td>Vg</td>\n",
       "      <td>OTHERS</td>\n",
       "      <td>SCHOOL_TEACHER</td>\n",
       "    </tr>\n",
       "    <tr>\n",
       "      <th>664</th>\n",
       "      <td>Average</td>\n",
       "      <td>male</td>\n",
       "      <td>ST</td>\n",
       "      <td>WA</td>\n",
       "      <td>THREE</td>\n",
       "      <td>SEBA</td>\n",
       "      <td>AHSEC</td>\n",
       "      <td>ENGLISH</td>\n",
       "      <td>Good</td>\n",
       "      <td>Good</td>\n",
       "      <td>SCHOOL_TEACHER</td>\n",
       "      <td>HOUSE_WIFE</td>\n",
       "    </tr>\n",
       "    <tr>\n",
       "      <th>665</th>\n",
       "      <td>Average</td>\n",
       "      <td>female</td>\n",
       "      <td>ST</td>\n",
       "      <td>NO</td>\n",
       "      <td>ONE</td>\n",
       "      <td>SEBA</td>\n",
       "      <td>CBSE</td>\n",
       "      <td>ENGLISH</td>\n",
       "      <td>Vg</td>\n",
       "      <td>Good</td>\n",
       "      <td>BUSINESS</td>\n",
       "      <td>OTHERS</td>\n",
       "    </tr>\n",
       "  </tbody>\n",
       "</table>\n",
       "<p>666 rows × 12 columns</p>\n",
       "</div>"
      ],
      "text/plain": [
       "    Performance  Gender    Caste coaching   time Class_ten_education  \\\n",
       "0     Excellent    male  General       NO    ONE                SEBA   \n",
       "1     Excellent    male      OBC       WA    TWO                SEBA   \n",
       "2     Excellent    male      OBC       OA    TWO              OTHERS   \n",
       "3     Excellent    male  General       WA    ONE                SEBA   \n",
       "4     Excellent    male  General       OA    TWO                SEBA   \n",
       "..          ...     ...      ...      ...    ...                 ...   \n",
       "661     Average  female       ST       WA    ONE                SEBA   \n",
       "662     Average    male       ST       WA  THREE                SEBA   \n",
       "663     Average    male       ST       WA    TWO                SEBA   \n",
       "664     Average    male       ST       WA  THREE                SEBA   \n",
       "665     Average  female       ST       NO    ONE                SEBA   \n",
       "\n",
       "    twelve_education   medium Class_ X_Percentage Class_XII_Percentage  \\\n",
       "0              AHSEC  ENGLISH           Excellent            Excellent   \n",
       "1              AHSEC   OTHERS           Excellent            Excellent   \n",
       "2               CBSE  ENGLISH           Excellent            Excellent   \n",
       "3              AHSEC   OTHERS           Excellent            Excellent   \n",
       "4               CBSE  ENGLISH           Excellent            Excellent   \n",
       "..               ...      ...                 ...                  ...   \n",
       "661            AHSEC  ENGLISH                Good                   Vg   \n",
       "662            AHSEC  ENGLISH                  Vg                 Good   \n",
       "663             CBSE  ENGLISH                Good                   Vg   \n",
       "664            AHSEC  ENGLISH                Good                 Good   \n",
       "665             CBSE  ENGLISH                  Vg                 Good   \n",
       "\n",
       "    Father_occupation Mother_occupation  \n",
       "0              DOCTOR            OTHERS  \n",
       "1      SCHOOL_TEACHER        HOUSE_WIFE  \n",
       "2            BUSINESS        HOUSE_WIFE  \n",
       "3      SCHOOL_TEACHER    SCHOOL_TEACHER  \n",
       "4     COLLEGE_TEACHER        HOUSE_WIFE  \n",
       "..                ...               ...  \n",
       "661            OTHERS        HOUSE_WIFE  \n",
       "662        CULTIVATOR        HOUSE_WIFE  \n",
       "663            OTHERS    SCHOOL_TEACHER  \n",
       "664    SCHOOL_TEACHER        HOUSE_WIFE  \n",
       "665          BUSINESS            OTHERS  \n",
       "\n",
       "[666 rows x 12 columns]"
      ]
     },
     "execution_count": 6,
     "metadata": {},
     "output_type": "execute_result"
    }
   ],
   "source": [
    "#To remove the \"b's\" seen in the data set\n",
    "df = df.applymap(lambda x: x.decode() if isinstance(x, bytes) else x)\n",
    "df"
   ]
  },
  {
   "cell_type": "markdown",
   "id": "823c3183",
   "metadata": {},
   "source": [
    "## 5- Dataset and Variables Explanation\n",
    "\n",
    "#### Dataset Overview\n",
    "The dataset, collected by Prof. Jiten Hazarika, comprises candidates who qualified for the medical entrance examination in Assam for a specific year. It encapsulates a diverse range of variables, offering a comprehensive insight into the candidates' academic and demographic backgrounds.\n",
    "\n",
    "#### Selected Variables for Analysis\n",
    "For the scope of this study, we are focusing on the following attributes:\n",
    "\n",
    "1. **Type of Coaching Classes (coaching):**\n",
    "   - *NO:* No coaching classes attended.\n",
    "   - *WA:* Coaching classes attended within Assam.\n",
    "   - *OA:* Coaching classes attended outside Assam.\n",
    "\n",
    "2. **Medium of Instruction at Class XII (medium):**\n",
    "   - *ENGLISH:* English medium instruction.\n",
    "   - *OTHERS:* Other language mediums excluding English and Assamese.\n",
    "   - *ASSAMESE:* Assamese medium instruction.\n",
    "\n",
    "3. **Percentages Secured at Class X and XII (Class_X_Percentage and Class_XII_Percentage):**\n",
    "   - *Excellent*  - *Vg* - *Good* - *Average* \n",
    "\n",
    "4. **Parents' Occupations (Father_occupation and Mother_occupation):**\n",
    "   - Here we would be considering the occupation of mother as being House_wife , teacher or any other job , adn for nother we would be considering as being teacher or any other job\n",
    "\n",
    "#### Analytical Significance\n",
    "- *Coaching Classes:* This variable will help analyze the impact of coaching on candidates’ performance so it will be directly affecting the performance of CEE exams.\n",
    "- *Medium of Instruction:* As per data its the medium o instruction of Class_XII , so it would only be affecting on the class performance of students in  Class_XII\n",
    "- *Academic Percentages:* These variables will be instrumental in evaluating the correlation between candidates’ academic records and their performance in the entrance exam.\n",
    "- *Parents' Occupations:* These will offer insights into the socio-economic factors and their potential influence on candidates’ academic achievements and entrance exam performance."
   ]
  },
  {
   "cell_type": "markdown",
   "id": "b3bd9cb6",
   "metadata": {},
   "source": [
    "#### SO BEFORE MOVING WE WOULD FILTER OUT THE DATA AS PER OUR NEED AND ENSURE IT IS CLEAN "
   ]
  },
  {
   "cell_type": "code",
   "execution_count": 7,
   "id": "6ea1c9bd",
   "metadata": {},
   "outputs": [],
   "source": [
    "df.drop(['Gender','Caste','time','Class_ten_education','twelve_education'],axis = 1,inplace = True)"
   ]
  },
  {
   "cell_type": "code",
   "execution_count": 8,
   "id": "b964030b",
   "metadata": {},
   "outputs": [
    {
     "data": {
      "text/html": [
       "<div>\n",
       "<style scoped>\n",
       "    .dataframe tbody tr th:only-of-type {\n",
       "        vertical-align: middle;\n",
       "    }\n",
       "\n",
       "    .dataframe tbody tr th {\n",
       "        vertical-align: top;\n",
       "    }\n",
       "\n",
       "    .dataframe thead th {\n",
       "        text-align: right;\n",
       "    }\n",
       "</style>\n",
       "<table border=\"1\" class=\"dataframe\">\n",
       "  <thead>\n",
       "    <tr style=\"text-align: right;\">\n",
       "      <th></th>\n",
       "      <th>Performance</th>\n",
       "      <th>coaching</th>\n",
       "      <th>medium</th>\n",
       "      <th>Class_ X_Percentage</th>\n",
       "      <th>Class_XII_Percentage</th>\n",
       "      <th>Father_occupation</th>\n",
       "      <th>Mother_occupation</th>\n",
       "    </tr>\n",
       "  </thead>\n",
       "  <tbody>\n",
       "    <tr>\n",
       "      <th>0</th>\n",
       "      <td>Excellent</td>\n",
       "      <td>NO</td>\n",
       "      <td>ENGLISH</td>\n",
       "      <td>Excellent</td>\n",
       "      <td>Excellent</td>\n",
       "      <td>DOCTOR</td>\n",
       "      <td>OTHERS</td>\n",
       "    </tr>\n",
       "    <tr>\n",
       "      <th>1</th>\n",
       "      <td>Excellent</td>\n",
       "      <td>WA</td>\n",
       "      <td>OTHERS</td>\n",
       "      <td>Excellent</td>\n",
       "      <td>Excellent</td>\n",
       "      <td>SCHOOL_TEACHER</td>\n",
       "      <td>HOUSE_WIFE</td>\n",
       "    </tr>\n",
       "    <tr>\n",
       "      <th>2</th>\n",
       "      <td>Excellent</td>\n",
       "      <td>OA</td>\n",
       "      <td>ENGLISH</td>\n",
       "      <td>Excellent</td>\n",
       "      <td>Excellent</td>\n",
       "      <td>BUSINESS</td>\n",
       "      <td>HOUSE_WIFE</td>\n",
       "    </tr>\n",
       "    <tr>\n",
       "      <th>3</th>\n",
       "      <td>Excellent</td>\n",
       "      <td>WA</td>\n",
       "      <td>OTHERS</td>\n",
       "      <td>Excellent</td>\n",
       "      <td>Excellent</td>\n",
       "      <td>SCHOOL_TEACHER</td>\n",
       "      <td>SCHOOL_TEACHER</td>\n",
       "    </tr>\n",
       "    <tr>\n",
       "      <th>4</th>\n",
       "      <td>Excellent</td>\n",
       "      <td>OA</td>\n",
       "      <td>ENGLISH</td>\n",
       "      <td>Excellent</td>\n",
       "      <td>Excellent</td>\n",
       "      <td>COLLEGE_TEACHER</td>\n",
       "      <td>HOUSE_WIFE</td>\n",
       "    </tr>\n",
       "    <tr>\n",
       "      <th>...</th>\n",
       "      <td>...</td>\n",
       "      <td>...</td>\n",
       "      <td>...</td>\n",
       "      <td>...</td>\n",
       "      <td>...</td>\n",
       "      <td>...</td>\n",
       "      <td>...</td>\n",
       "    </tr>\n",
       "    <tr>\n",
       "      <th>661</th>\n",
       "      <td>Average</td>\n",
       "      <td>WA</td>\n",
       "      <td>ENGLISH</td>\n",
       "      <td>Good</td>\n",
       "      <td>Vg</td>\n",
       "      <td>OTHERS</td>\n",
       "      <td>HOUSE_WIFE</td>\n",
       "    </tr>\n",
       "    <tr>\n",
       "      <th>662</th>\n",
       "      <td>Average</td>\n",
       "      <td>WA</td>\n",
       "      <td>ENGLISH</td>\n",
       "      <td>Vg</td>\n",
       "      <td>Good</td>\n",
       "      <td>CULTIVATOR</td>\n",
       "      <td>HOUSE_WIFE</td>\n",
       "    </tr>\n",
       "    <tr>\n",
       "      <th>663</th>\n",
       "      <td>Average</td>\n",
       "      <td>WA</td>\n",
       "      <td>ENGLISH</td>\n",
       "      <td>Good</td>\n",
       "      <td>Vg</td>\n",
       "      <td>OTHERS</td>\n",
       "      <td>SCHOOL_TEACHER</td>\n",
       "    </tr>\n",
       "    <tr>\n",
       "      <th>664</th>\n",
       "      <td>Average</td>\n",
       "      <td>WA</td>\n",
       "      <td>ENGLISH</td>\n",
       "      <td>Good</td>\n",
       "      <td>Good</td>\n",
       "      <td>SCHOOL_TEACHER</td>\n",
       "      <td>HOUSE_WIFE</td>\n",
       "    </tr>\n",
       "    <tr>\n",
       "      <th>665</th>\n",
       "      <td>Average</td>\n",
       "      <td>NO</td>\n",
       "      <td>ENGLISH</td>\n",
       "      <td>Vg</td>\n",
       "      <td>Good</td>\n",
       "      <td>BUSINESS</td>\n",
       "      <td>OTHERS</td>\n",
       "    </tr>\n",
       "  </tbody>\n",
       "</table>\n",
       "<p>666 rows × 7 columns</p>\n",
       "</div>"
      ],
      "text/plain": [
       "    Performance coaching   medium Class_ X_Percentage Class_XII_Percentage  \\\n",
       "0     Excellent       NO  ENGLISH           Excellent            Excellent   \n",
       "1     Excellent       WA   OTHERS           Excellent            Excellent   \n",
       "2     Excellent       OA  ENGLISH           Excellent            Excellent   \n",
       "3     Excellent       WA   OTHERS           Excellent            Excellent   \n",
       "4     Excellent       OA  ENGLISH           Excellent            Excellent   \n",
       "..          ...      ...      ...                 ...                  ...   \n",
       "661     Average       WA  ENGLISH                Good                   Vg   \n",
       "662     Average       WA  ENGLISH                  Vg                 Good   \n",
       "663     Average       WA  ENGLISH                Good                   Vg   \n",
       "664     Average       WA  ENGLISH                Good                 Good   \n",
       "665     Average       NO  ENGLISH                  Vg                 Good   \n",
       "\n",
       "    Father_occupation Mother_occupation  \n",
       "0              DOCTOR            OTHERS  \n",
       "1      SCHOOL_TEACHER        HOUSE_WIFE  \n",
       "2            BUSINESS        HOUSE_WIFE  \n",
       "3      SCHOOL_TEACHER    SCHOOL_TEACHER  \n",
       "4     COLLEGE_TEACHER        HOUSE_WIFE  \n",
       "..                ...               ...  \n",
       "661            OTHERS        HOUSE_WIFE  \n",
       "662        CULTIVATOR        HOUSE_WIFE  \n",
       "663            OTHERS    SCHOOL_TEACHER  \n",
       "664    SCHOOL_TEACHER        HOUSE_WIFE  \n",
       "665          BUSINESS            OTHERS  \n",
       "\n",
       "[666 rows x 7 columns]"
      ]
     },
     "execution_count": 8,
     "metadata": {},
     "output_type": "execute_result"
    }
   ],
   "source": [
    "df"
   ]
  },
  {
   "cell_type": "code",
   "execution_count": 9,
   "id": "34a5ae9c",
   "metadata": {},
   "outputs": [
    {
     "name": "stdout",
     "output_type": "stream",
     "text": [
      "<class 'pandas.core.frame.DataFrame'>\n",
      "RangeIndex: 666 entries, 0 to 665\n",
      "Data columns (total 7 columns):\n",
      " #   Column                Non-Null Count  Dtype \n",
      "---  ------                --------------  ----- \n",
      " 0   Performance           666 non-null    object\n",
      " 1   coaching              666 non-null    object\n",
      " 2   medium                666 non-null    object\n",
      " 3   Class_ X_Percentage   666 non-null    object\n",
      " 4   Class_XII_Percentage  666 non-null    object\n",
      " 5   Father_occupation     666 non-null    object\n",
      " 6   Mother_occupation     666 non-null    object\n",
      "dtypes: object(7)\n",
      "memory usage: 36.5+ KB\n"
     ]
    }
   ],
   "source": [
    "df.info()"
   ]
  },
  {
   "cell_type": "code",
   "execution_count": 10,
   "id": "aad81449",
   "metadata": {},
   "outputs": [
    {
     "data": {
      "text/plain": [
       "Performance             0\n",
       "coaching                0\n",
       "medium                  0\n",
       "Class_ X_Percentage     0\n",
       "Class_XII_Percentage    0\n",
       "Father_occupation       0\n",
       "Mother_occupation       0\n",
       "dtype: int64"
      ]
     },
     "execution_count": 10,
     "metadata": {},
     "output_type": "execute_result"
    }
   ],
   "source": [
    "# Check for missing values\n",
    "df.isnull().sum()"
   ]
  },
  {
   "cell_type": "code",
   "execution_count": 11,
   "id": "39b3e14d",
   "metadata": {
    "scrolled": true
   },
   "outputs": [
    {
     "data": {
      "text/html": [
       "<div>\n",
       "<style scoped>\n",
       "    .dataframe tbody tr th:only-of-type {\n",
       "        vertical-align: middle;\n",
       "    }\n",
       "\n",
       "    .dataframe tbody tr th {\n",
       "        vertical-align: top;\n",
       "    }\n",
       "\n",
       "    .dataframe thead th {\n",
       "        text-align: right;\n",
       "    }\n",
       "</style>\n",
       "<table border=\"1\" class=\"dataframe\">\n",
       "  <thead>\n",
       "    <tr style=\"text-align: right;\">\n",
       "      <th></th>\n",
       "      <th>Performance</th>\n",
       "      <th>coaching</th>\n",
       "      <th>medium</th>\n",
       "      <th>Class_ X_Percentage</th>\n",
       "      <th>Class_XII_Percentage</th>\n",
       "      <th>Father_occupation</th>\n",
       "      <th>Mother_occupation</th>\n",
       "    </tr>\n",
       "  </thead>\n",
       "  <tbody>\n",
       "    <tr>\n",
       "      <th>0</th>\n",
       "      <td>Excellent</td>\n",
       "      <td>NO</td>\n",
       "      <td>ENGLISH</td>\n",
       "      <td>Excellent</td>\n",
       "      <td>Excellent</td>\n",
       "      <td>DOCTOR</td>\n",
       "      <td>OTHERS</td>\n",
       "    </tr>\n",
       "    <tr>\n",
       "      <th>1</th>\n",
       "      <td>Excellent</td>\n",
       "      <td>WA</td>\n",
       "      <td>OTHERS</td>\n",
       "      <td>Excellent</td>\n",
       "      <td>Excellent</td>\n",
       "      <td>SCHOOL_TEACHER</td>\n",
       "      <td>HOUSE_WIFE</td>\n",
       "    </tr>\n",
       "    <tr>\n",
       "      <th>2</th>\n",
       "      <td>Excellent</td>\n",
       "      <td>OA</td>\n",
       "      <td>ENGLISH</td>\n",
       "      <td>Excellent</td>\n",
       "      <td>Excellent</td>\n",
       "      <td>BUSINESS</td>\n",
       "      <td>HOUSE_WIFE</td>\n",
       "    </tr>\n",
       "    <tr>\n",
       "      <th>3</th>\n",
       "      <td>Excellent</td>\n",
       "      <td>WA</td>\n",
       "      <td>OTHERS</td>\n",
       "      <td>Excellent</td>\n",
       "      <td>Excellent</td>\n",
       "      <td>SCHOOL_TEACHER</td>\n",
       "      <td>SCHOOL_TEACHER</td>\n",
       "    </tr>\n",
       "    <tr>\n",
       "      <th>4</th>\n",
       "      <td>Excellent</td>\n",
       "      <td>OA</td>\n",
       "      <td>ENGLISH</td>\n",
       "      <td>Excellent</td>\n",
       "      <td>Excellent</td>\n",
       "      <td>COLLEGE_TEACHER</td>\n",
       "      <td>HOUSE_WIFE</td>\n",
       "    </tr>\n",
       "    <tr>\n",
       "      <th>...</th>\n",
       "      <td>...</td>\n",
       "      <td>...</td>\n",
       "      <td>...</td>\n",
       "      <td>...</td>\n",
       "      <td>...</td>\n",
       "      <td>...</td>\n",
       "      <td>...</td>\n",
       "    </tr>\n",
       "    <tr>\n",
       "      <th>661</th>\n",
       "      <td>Average</td>\n",
       "      <td>WA</td>\n",
       "      <td>ENGLISH</td>\n",
       "      <td>Good</td>\n",
       "      <td>Vg</td>\n",
       "      <td>OTHERS</td>\n",
       "      <td>HOUSE_WIFE</td>\n",
       "    </tr>\n",
       "    <tr>\n",
       "      <th>662</th>\n",
       "      <td>Average</td>\n",
       "      <td>WA</td>\n",
       "      <td>ENGLISH</td>\n",
       "      <td>Vg</td>\n",
       "      <td>Good</td>\n",
       "      <td>CULTIVATOR</td>\n",
       "      <td>HOUSE_WIFE</td>\n",
       "    </tr>\n",
       "    <tr>\n",
       "      <th>663</th>\n",
       "      <td>Average</td>\n",
       "      <td>WA</td>\n",
       "      <td>ENGLISH</td>\n",
       "      <td>Good</td>\n",
       "      <td>Vg</td>\n",
       "      <td>OTHERS</td>\n",
       "      <td>SCHOOL_TEACHER</td>\n",
       "    </tr>\n",
       "    <tr>\n",
       "      <th>664</th>\n",
       "      <td>Average</td>\n",
       "      <td>WA</td>\n",
       "      <td>ENGLISH</td>\n",
       "      <td>Good</td>\n",
       "      <td>Good</td>\n",
       "      <td>SCHOOL_TEACHER</td>\n",
       "      <td>HOUSE_WIFE</td>\n",
       "    </tr>\n",
       "    <tr>\n",
       "      <th>665</th>\n",
       "      <td>Average</td>\n",
       "      <td>NO</td>\n",
       "      <td>ENGLISH</td>\n",
       "      <td>Vg</td>\n",
       "      <td>Good</td>\n",
       "      <td>BUSINESS</td>\n",
       "      <td>OTHERS</td>\n",
       "    </tr>\n",
       "  </tbody>\n",
       "</table>\n",
       "<p>666 rows × 7 columns</p>\n",
       "</div>"
      ],
      "text/plain": [
       "    Performance coaching   medium Class_ X_Percentage Class_XII_Percentage  \\\n",
       "0     Excellent       NO  ENGLISH           Excellent            Excellent   \n",
       "1     Excellent       WA   OTHERS           Excellent            Excellent   \n",
       "2     Excellent       OA  ENGLISH           Excellent            Excellent   \n",
       "3     Excellent       WA   OTHERS           Excellent            Excellent   \n",
       "4     Excellent       OA  ENGLISH           Excellent            Excellent   \n",
       "..          ...      ...      ...                 ...                  ...   \n",
       "661     Average       WA  ENGLISH                Good                   Vg   \n",
       "662     Average       WA  ENGLISH                  Vg                 Good   \n",
       "663     Average       WA  ENGLISH                Good                   Vg   \n",
       "664     Average       WA  ENGLISH                Good                 Good   \n",
       "665     Average       NO  ENGLISH                  Vg                 Good   \n",
       "\n",
       "    Father_occupation Mother_occupation  \n",
       "0              DOCTOR            OTHERS  \n",
       "1      SCHOOL_TEACHER        HOUSE_WIFE  \n",
       "2            BUSINESS        HOUSE_WIFE  \n",
       "3      SCHOOL_TEACHER    SCHOOL_TEACHER  \n",
       "4     COLLEGE_TEACHER        HOUSE_WIFE  \n",
       "..                ...               ...  \n",
       "661            OTHERS        HOUSE_WIFE  \n",
       "662        CULTIVATOR        HOUSE_WIFE  \n",
       "663            OTHERS    SCHOOL_TEACHER  \n",
       "664    SCHOOL_TEACHER        HOUSE_WIFE  \n",
       "665          BUSINESS            OTHERS  \n",
       "\n",
       "[666 rows x 7 columns]"
      ]
     },
     "execution_count": 11,
     "metadata": {},
     "output_type": "execute_result"
    }
   ],
   "source": [
    "df"
   ]
  },
  {
   "cell_type": "code",
   "execution_count": 12,
   "id": "3cd1a292",
   "metadata": {
    "scrolled": true
   },
   "outputs": [
    {
     "data": {
      "text/plain": [
       "Good         210\n",
       "Vg           198\n",
       "Average      157\n",
       "Excellent    101\n",
       "Name: Performance, dtype: int64"
      ]
     },
     "execution_count": 12,
     "metadata": {},
     "output_type": "execute_result"
    }
   ],
   "source": [
    "df.Performance.value_counts()"
   ]
  },
  {
   "cell_type": "code",
   "execution_count": 13,
   "id": "f0a1e0f0",
   "metadata": {},
   "outputs": [
    {
     "data": {
      "text/plain": [
       "WA    449\n",
       "NO    150\n",
       "OA     67\n",
       "Name: coaching, dtype: int64"
      ]
     },
     "execution_count": 13,
     "metadata": {},
     "output_type": "execute_result"
    }
   ],
   "source": [
    "df.coaching.value_counts()"
   ]
  },
  {
   "cell_type": "code",
   "execution_count": 14,
   "id": "932f4b79",
   "metadata": {},
   "outputs": [
    {
     "data": {
      "text/plain": [
       "ENGLISH     536\n",
       "OTHERS       74\n",
       "ASSAMESE     56\n",
       "Name: medium, dtype: int64"
      ]
     },
     "execution_count": 14,
     "metadata": {},
     "output_type": "execute_result"
    }
   ],
   "source": [
    "df.medium.value_counts()"
   ]
  },
  {
   "cell_type": "code",
   "execution_count": 15,
   "id": "7a350177",
   "metadata": {},
   "outputs": [
    {
     "data": {
      "text/plain": [
       "Excellent    398\n",
       "Vg           181\n",
       "Good          75\n",
       "Average       12\n",
       "Name: Class_XII_Percentage, dtype: int64"
      ]
     },
     "execution_count": 15,
     "metadata": {},
     "output_type": "execute_result"
    }
   ],
   "source": [
    "df.Class_XII_Percentage.value_counts()"
   ]
  },
  {
   "cell_type": "code",
   "execution_count": 16,
   "id": "9618af6d",
   "metadata": {},
   "outputs": [
    {
     "data": {
      "text/plain": [
       "OTHERS             277\n",
       "SCHOOL_TEACHER     109\n",
       "BUSINESS           103\n",
       "DOCTOR              55\n",
       "ENGINEER            45\n",
       "COLLEGE_TEACHER     27\n",
       "CULTIVATOR          27\n",
       "BANK_OFFICIAL       23\n",
       "Name: Father_occupation, dtype: int64"
      ]
     },
     "execution_count": 16,
     "metadata": {},
     "output_type": "execute_result"
    }
   ],
   "source": [
    "df.Father_occupation.value_counts()"
   ]
  },
  {
   "cell_type": "markdown",
   "id": "96714915",
   "metadata": {},
   "source": [
    "###### As we are interested of father being a teacher or not so we would reshape it\n"
   ]
  },
  {
   "cell_type": "code",
   "execution_count": 17,
   "id": "70cbc4b8",
   "metadata": {},
   "outputs": [],
   "source": [
    "# reshaping Father_occupation grouping\n",
    "for i in range(len(df.Father_occupation)):\n",
    "    \n",
    "    if df.Father_occupation[i] == 'OTHERS' or df.Father_occupation[i] == 'BUSINESS' or df.Father_occupation[i] == 'DOCTOR' or df.Father_occupation[i] == 'ENGINEER' or df.Father_occupation[i] == 'CULTIVATOR' or df.Father_occupation[i] == 'BANK_OFFICIAL':\n",
    "        df.Father_occupation[i] = 'OTHERS'\n",
    "\n",
    "    elif df.Father_occupation[i] == 'SCHOOL_TEACHER' or df.Father_occupation[i] == 'COLLEGE_TEACHER': \n",
    "        df.Father_occupation[i] = 'TEACHER'\n"
   ]
  },
  {
   "cell_type": "code",
   "execution_count": 18,
   "id": "2a6f3c85",
   "metadata": {},
   "outputs": [
    {
     "data": {
      "text/html": [
       "<div>\n",
       "<style scoped>\n",
       "    .dataframe tbody tr th:only-of-type {\n",
       "        vertical-align: middle;\n",
       "    }\n",
       "\n",
       "    .dataframe tbody tr th {\n",
       "        vertical-align: top;\n",
       "    }\n",
       "\n",
       "    .dataframe thead th {\n",
       "        text-align: right;\n",
       "    }\n",
       "</style>\n",
       "<table border=\"1\" class=\"dataframe\">\n",
       "  <thead>\n",
       "    <tr style=\"text-align: right;\">\n",
       "      <th></th>\n",
       "      <th>Performance</th>\n",
       "      <th>coaching</th>\n",
       "      <th>medium</th>\n",
       "      <th>Class_ X_Percentage</th>\n",
       "      <th>Class_XII_Percentage</th>\n",
       "      <th>Father_occupation</th>\n",
       "      <th>Mother_occupation</th>\n",
       "    </tr>\n",
       "  </thead>\n",
       "  <tbody>\n",
       "    <tr>\n",
       "      <th>0</th>\n",
       "      <td>Excellent</td>\n",
       "      <td>NO</td>\n",
       "      <td>ENGLISH</td>\n",
       "      <td>Excellent</td>\n",
       "      <td>Excellent</td>\n",
       "      <td>OTHERS</td>\n",
       "      <td>OTHERS</td>\n",
       "    </tr>\n",
       "    <tr>\n",
       "      <th>1</th>\n",
       "      <td>Excellent</td>\n",
       "      <td>WA</td>\n",
       "      <td>OTHERS</td>\n",
       "      <td>Excellent</td>\n",
       "      <td>Excellent</td>\n",
       "      <td>TEACHER</td>\n",
       "      <td>HOUSE_WIFE</td>\n",
       "    </tr>\n",
       "    <tr>\n",
       "      <th>2</th>\n",
       "      <td>Excellent</td>\n",
       "      <td>OA</td>\n",
       "      <td>ENGLISH</td>\n",
       "      <td>Excellent</td>\n",
       "      <td>Excellent</td>\n",
       "      <td>OTHERS</td>\n",
       "      <td>HOUSE_WIFE</td>\n",
       "    </tr>\n",
       "    <tr>\n",
       "      <th>3</th>\n",
       "      <td>Excellent</td>\n",
       "      <td>WA</td>\n",
       "      <td>OTHERS</td>\n",
       "      <td>Excellent</td>\n",
       "      <td>Excellent</td>\n",
       "      <td>TEACHER</td>\n",
       "      <td>SCHOOL_TEACHER</td>\n",
       "    </tr>\n",
       "    <tr>\n",
       "      <th>4</th>\n",
       "      <td>Excellent</td>\n",
       "      <td>OA</td>\n",
       "      <td>ENGLISH</td>\n",
       "      <td>Excellent</td>\n",
       "      <td>Excellent</td>\n",
       "      <td>TEACHER</td>\n",
       "      <td>HOUSE_WIFE</td>\n",
       "    </tr>\n",
       "    <tr>\n",
       "      <th>...</th>\n",
       "      <td>...</td>\n",
       "      <td>...</td>\n",
       "      <td>...</td>\n",
       "      <td>...</td>\n",
       "      <td>...</td>\n",
       "      <td>...</td>\n",
       "      <td>...</td>\n",
       "    </tr>\n",
       "    <tr>\n",
       "      <th>661</th>\n",
       "      <td>Average</td>\n",
       "      <td>WA</td>\n",
       "      <td>ENGLISH</td>\n",
       "      <td>Good</td>\n",
       "      <td>Vg</td>\n",
       "      <td>OTHERS</td>\n",
       "      <td>HOUSE_WIFE</td>\n",
       "    </tr>\n",
       "    <tr>\n",
       "      <th>662</th>\n",
       "      <td>Average</td>\n",
       "      <td>WA</td>\n",
       "      <td>ENGLISH</td>\n",
       "      <td>Vg</td>\n",
       "      <td>Good</td>\n",
       "      <td>OTHERS</td>\n",
       "      <td>HOUSE_WIFE</td>\n",
       "    </tr>\n",
       "    <tr>\n",
       "      <th>663</th>\n",
       "      <td>Average</td>\n",
       "      <td>WA</td>\n",
       "      <td>ENGLISH</td>\n",
       "      <td>Good</td>\n",
       "      <td>Vg</td>\n",
       "      <td>OTHERS</td>\n",
       "      <td>SCHOOL_TEACHER</td>\n",
       "    </tr>\n",
       "    <tr>\n",
       "      <th>664</th>\n",
       "      <td>Average</td>\n",
       "      <td>WA</td>\n",
       "      <td>ENGLISH</td>\n",
       "      <td>Good</td>\n",
       "      <td>Good</td>\n",
       "      <td>TEACHER</td>\n",
       "      <td>HOUSE_WIFE</td>\n",
       "    </tr>\n",
       "    <tr>\n",
       "      <th>665</th>\n",
       "      <td>Average</td>\n",
       "      <td>NO</td>\n",
       "      <td>ENGLISH</td>\n",
       "      <td>Vg</td>\n",
       "      <td>Good</td>\n",
       "      <td>OTHERS</td>\n",
       "      <td>OTHERS</td>\n",
       "    </tr>\n",
       "  </tbody>\n",
       "</table>\n",
       "<p>666 rows × 7 columns</p>\n",
       "</div>"
      ],
      "text/plain": [
       "    Performance coaching   medium Class_ X_Percentage Class_XII_Percentage  \\\n",
       "0     Excellent       NO  ENGLISH           Excellent            Excellent   \n",
       "1     Excellent       WA   OTHERS           Excellent            Excellent   \n",
       "2     Excellent       OA  ENGLISH           Excellent            Excellent   \n",
       "3     Excellent       WA   OTHERS           Excellent            Excellent   \n",
       "4     Excellent       OA  ENGLISH           Excellent            Excellent   \n",
       "..          ...      ...      ...                 ...                  ...   \n",
       "661     Average       WA  ENGLISH                Good                   Vg   \n",
       "662     Average       WA  ENGLISH                  Vg                 Good   \n",
       "663     Average       WA  ENGLISH                Good                   Vg   \n",
       "664     Average       WA  ENGLISH                Good                 Good   \n",
       "665     Average       NO  ENGLISH                  Vg                 Good   \n",
       "\n",
       "    Father_occupation Mother_occupation  \n",
       "0              OTHERS            OTHERS  \n",
       "1             TEACHER        HOUSE_WIFE  \n",
       "2              OTHERS        HOUSE_WIFE  \n",
       "3             TEACHER    SCHOOL_TEACHER  \n",
       "4             TEACHER        HOUSE_WIFE  \n",
       "..                ...               ...  \n",
       "661            OTHERS        HOUSE_WIFE  \n",
       "662            OTHERS        HOUSE_WIFE  \n",
       "663            OTHERS    SCHOOL_TEACHER  \n",
       "664           TEACHER        HOUSE_WIFE  \n",
       "665            OTHERS            OTHERS  \n",
       "\n",
       "[666 rows x 7 columns]"
      ]
     },
     "execution_count": 18,
     "metadata": {},
     "output_type": "execute_result"
    }
   ],
   "source": [
    "df"
   ]
  },
  {
   "cell_type": "code",
   "execution_count": 19,
   "id": "633270c4",
   "metadata": {},
   "outputs": [
    {
     "data": {
      "text/plain": [
       "OTHERS     530\n",
       "TEACHER    136\n",
       "Name: Father_occupation, dtype: int64"
      ]
     },
     "execution_count": 19,
     "metadata": {},
     "output_type": "execute_result"
    }
   ],
   "source": [
    "df.Father_occupation.value_counts()"
   ]
  },
  {
   "cell_type": "code",
   "execution_count": 20,
   "id": "4bfe590c",
   "metadata": {},
   "outputs": [
    {
     "data": {
      "text/plain": [
       "HOUSE_WIFE         442\n",
       "SCHOOL_TEACHER     108\n",
       "OTHERS              72\n",
       "COLLEGE_TEACHER     20\n",
       "DOCTOR              13\n",
       "BANK_OFFICIAL        4\n",
       "BUSINESS             3\n",
       "ENGINEER             3\n",
       "CULTIVATOR           1\n",
       "Name: Mother_occupation, dtype: int64"
      ]
     },
     "execution_count": 20,
     "metadata": {},
     "output_type": "execute_result"
    }
   ],
   "source": [
    "df.Mother_occupation.value_counts()"
   ]
  },
  {
   "cell_type": "markdown",
   "id": "0e4acf4d",
   "metadata": {},
   "source": [
    "##### As we are interested of mother being a teacher , a house_wife or doing some other job so we would reshape it"
   ]
  },
  {
   "cell_type": "code",
   "execution_count": 21,
   "id": "3304732a",
   "metadata": {},
   "outputs": [],
   "source": [
    "# reshaping Mother_occupation grouping\n",
    "for i in range(len(df.Mother_occupation)):\n",
    "    \n",
    "    if df.Mother_occupation[i] == 'OTHERS' or df.Mother_occupation[i] == 'BUSINESS' or df.Mother_occupation[i] == 'DOCTOR' or df.Mother_occupation[i] == 'ENGINEER' or df.Mother_occupation[i] == 'CULTIVATOR' or df.Mother_occupation[i] == 'BANK_OFFICIAL':\n",
    "        df.Mother_occupation[i] = 'OTHERS'\n",
    "\n",
    "    elif df.Mother_occupation[i] == 'SCHOOL_TEACHER' or df.Mother_occupation[i] == 'COLLEGE_TEACHER': \n",
    "        df.Mother_occupation[i] = 'TEACHER'\n",
    "    # Keeping the HOUSE_WIFE as it is "
   ]
  },
  {
   "cell_type": "code",
   "execution_count": 22,
   "id": "8f474362",
   "metadata": {},
   "outputs": [
    {
     "data": {
      "text/plain": [
       "HOUSE_WIFE    442\n",
       "TEACHER       128\n",
       "OTHERS         96\n",
       "Name: Mother_occupation, dtype: int64"
      ]
     },
     "execution_count": 22,
     "metadata": {},
     "output_type": "execute_result"
    }
   ],
   "source": [
    "df.Mother_occupation.value_counts()"
   ]
  },
  {
   "cell_type": "markdown",
   "id": "84d8a62b",
   "metadata": {},
   "source": [
    "## 6- Codification of the problem \n",
    "### 6.1) Plotting the Network\n"
   ]
  },
  {
   "cell_type": "markdown",
   "id": "e5fe8bf7",
   "metadata": {},
   "source": [
    "So in our work we are considering that Father_occupation and Mother_occupation directly imapcting on classX_Percentage which is imapcting on Class_XII_Percentage , and Class_XII_Percentage is also affected by medium , then Class_XII_Percentage is influencing the Performance , coaching is also independent and influencing the performance directly\n"
   ]
  },
  {
   "cell_type": "code",
   "execution_count": 23,
   "id": "882446e5",
   "metadata": {},
   "outputs": [
    {
     "data": {
      "image/png": "[encoded data removed]",
      "text/plain": [
       "<Figure size 1000x900 with 1 Axes>"
      ]
     },
     "metadata": {},
     "output_type": "display_data"
    }
   ],
   "source": [
    "import matplotlib.pyplot as plt\n",
    "import networkx as nx\n",
    "\n",
    "# Create an empty directed graph using NetworkX\n",
    "G = nx.DiGraph()\n",
    "\n",
    "# Define the nodes\n",
    "nodes = ['Father_occupation', 'Mother_occupation', 'Class_ X_Percentage', 'medium', 'Class_XII_Percentage', 'Performance', 'coaching']\n",
    "\n",
    "# Add nodes to the graph\n",
    "G.add_nodes_from(nodes)\n",
    "\n",
    "# Define the edges\n",
    "edges = [('Father_occupation', 'Class_ X_Percentage'),\n",
    "         ('Mother_occupation', 'Class_ X_Percentage'),\n",
    "         ('Class_ X_Percentage', 'Class_XII_Percentage'),\n",
    "         ('medium', 'Class_XII_Percentage'),\n",
    "         ('Class_XII_Percentage', 'Performance'),\n",
    "         ('coaching', 'Performance')]\n",
    "\n",
    "# Add edges to the graph\n",
    "G.add_edges_from(edges)\n",
    "\n",
    "# Create a new plot\n",
    "plt.figure(figsize=(10, 9))\n",
    "\n",
    "# Define the positions for the nodes in the graph\n",
    "pos = nx.spring_layout(G)\n",
    "\n",
    "# Draw the graph\n",
    "nx.draw_networkx_nodes(G, pos)\n",
    "nx.draw_networkx_edges(G, pos, arrows=True)\n",
    "nx.draw_networkx_labels(G, pos)\n",
    "\n",
    "# Show the plot\n",
    "plt.show()\n"
   ]
  },
  {
   "cell_type": "code",
   "execution_count": 24,
   "id": "d0139183",
   "metadata": {},
   "outputs": [],
   "source": [
    "data = df"
   ]
  },
  {
   "cell_type": "markdown",
   "id": "94757d27",
   "metadata": {},
   "source": [
    "### 6.2) Calculation of  Probabilities"
   ]
  },
  {
   "cell_type": "code",
   "execution_count": 25,
   "id": "d9091905",
   "metadata": {},
   "outputs": [],
   "source": [
    "from fractions import Fraction\n",
    "p_father_occupation = data['Father_occupation'].value_counts(normalize=True).apply(lambda x: Fraction(x).limit_denominator())\n",
    "p_mother_occupation = data['Mother_occupation'].value_counts(normalize=True).apply(lambda x: Fraction(x).limit_denominator())\n",
    "p_coaching = data['coaching'].value_counts(normalize=True).apply(lambda x: Fraction(x).limit_denominator())\n",
    "p_medium = data['medium'].value_counts(normalize=True).apply(lambda x: Fraction(x).limit_denominator())"
   ]
  },
  {
   "cell_type": "code",
   "execution_count": 26,
   "id": "689969f4",
   "metadata": {},
   "outputs": [
    {
     "name": "stdout",
     "output_type": "stream",
     "text": [
      "Prior Probabilities:\n",
      "Father Occupation:\n",
      " OTHERS     265/333\n",
      "TEACHER     68/333\n",
      "Name: Father_occupation, dtype: object\n",
      "Mother Occupation:\n",
      " HOUSE_WIFE    221/333\n",
      "TEACHER        64/333\n",
      "OTHERS         16/111\n",
      "Name: Mother_occupation, dtype: object\n",
      "Coaching:\n",
      " WA    449/666\n",
      "NO     25/111\n",
      "OA     67/666\n",
      "Name: coaching, dtype: object\n",
      "Medium:\n",
      " ENGLISH     268/333\n",
      "OTHERS          1/9\n",
      "ASSAMESE     28/333\n",
      "Name: medium, dtype: object\n"
     ]
    }
   ],
   "source": [
    "print(\"Prior Probabilities:\")\n",
    "print(\"Father Occupation:\\n\", p_father_occupation)\n",
    "print(\"Mother Occupation:\\n\", p_mother_occupation)\n",
    "print(\"Coaching:\\n\", p_coaching)\n",
    "print(\"Medium:\\n\", p_medium)"
   ]
  },
  {
   "cell_type": "code",
   "execution_count": 27,
   "id": "fc858c2c",
   "metadata": {},
   "outputs": [],
   "source": [
    "# Calculating conditional probabilities of P(Class X Percentage | Father Occupation, Mother Occupation)\n",
    "P_class_x_given_parents = data.groupby(['Father_occupation', 'Mother_occupation', 'Class_ X_Percentage']).size() / data.groupby(['Father_occupation', 'Mother_occupation']).size()\n"
   ]
  },
  {
   "cell_type": "code",
   "execution_count": 28,
   "id": "1da2c986",
   "metadata": {},
   "outputs": [],
   "source": [
    "from fractions import Fraction\n",
    "result_fraction = P_class_x_given_parents.apply(lambda x: Fraction(x).limit_denominator())"
   ]
  },
  {
   "cell_type": "code",
   "execution_count": 29,
   "id": "af4e706a",
   "metadata": {
    "scrolled": true
   },
   "outputs": [
    {
     "data": {
      "text/plain": [
       "Father_occupation  Mother_occupation  Class_ X_Percentage\n",
       "OTHERS             HOUSE_WIFE         Average                0.024590\n",
       "                                      Excellent              0.748634\n",
       "                                      Good                   0.051913\n",
       "                                      Vg                     0.174863\n",
       "                   OTHERS             Average                0.022727\n",
       "                                      Excellent              0.863636\n",
       "                                      Good                   0.022727\n",
       "                                      Vg                     0.090909\n",
       "                   TEACHER            Excellent              0.828947\n",
       "                                      Good                   0.065789\n",
       "                                      Vg                     0.105263\n",
       "TEACHER            HOUSE_WIFE         Average                0.026316\n",
       "                                      Excellent              0.657895\n",
       "                                      Good                   0.144737\n",
       "                                      Vg                     0.171053\n",
       "                   OTHERS             Excellent              0.625000\n",
       "                                      Good                   0.250000\n",
       "                                      Vg                     0.125000\n",
       "                   TEACHER            Excellent              0.826923\n",
       "                                      Good                   0.038462\n",
       "                                      Vg                     0.134615\n",
       "dtype: float64"
      ]
     },
     "execution_count": 29,
     "metadata": {},
     "output_type": "execute_result"
    }
   ],
   "source": [
    "P_class_x_given_parents"
   ]
  },
  {
   "cell_type": "code",
   "execution_count": 30,
   "id": "78f05fe5",
   "metadata": {},
   "outputs": [
    {
     "data": {
      "text/plain": [
       "Father_occupation  Mother_occupation  Class_ X_Percentage\n",
       "OTHERS             HOUSE_WIFE         Average                  3/122\n",
       "                                      Excellent              137/183\n",
       "                                      Good                    19/366\n",
       "                                      Vg                      32/183\n",
       "                   OTHERS             Average                   1/44\n",
       "                                      Excellent                19/22\n",
       "                                      Good                      1/44\n",
       "                                      Vg                        1/11\n",
       "                   TEACHER            Excellent                63/76\n",
       "                                      Good                      5/76\n",
       "                                      Vg                        2/19\n",
       "TEACHER            HOUSE_WIFE         Average                   1/38\n",
       "                                      Excellent                25/38\n",
       "                                      Good                     11/76\n",
       "                                      Vg                       13/76\n",
       "                   OTHERS             Excellent                  5/8\n",
       "                                      Good                       1/4\n",
       "                                      Vg                         1/8\n",
       "                   TEACHER            Excellent                43/52\n",
       "                                      Good                      1/26\n",
       "                                      Vg                        7/52\n",
       "dtype: object"
      ]
     },
     "execution_count": 30,
     "metadata": {},
     "output_type": "execute_result"
    }
   ],
   "source": [
    "result_fraction"
   ]
  },
  {
   "cell_type": "code",
   "execution_count": 31,
   "id": "44b1f8e4",
   "metadata": {},
   "outputs": [],
   "source": [
    "# Conditional probabilities of P(Class XII Percentage | medium, Class X percentage)\n",
    "P_class_xii_given_class_x_and_medium = data.groupby(['medium', 'Class_ X_Percentage', 'Class_XII_Percentage']).size() / data.groupby(['medium', 'Class_ X_Percentage']).size()\n"
   ]
  },
  {
   "cell_type": "code",
   "execution_count": 32,
   "id": "f6d41c1d",
   "metadata": {},
   "outputs": [
    {
     "data": {
      "text/plain": [
       "medium    Class_ X_Percentage  Class_XII_Percentage\n",
       "ASSAMESE  Average              Average                     2/3\n",
       "                               Good                        1/3\n",
       "          Excellent            Excellent                 22/39\n",
       "                               Good                       1/39\n",
       "                               Vg                        16/39\n",
       "          Good                 Average                     1/3\n",
       "                               Good                        1/2\n",
       "                               Vg                          1/6\n",
       "          Vg                   Good                        3/4\n",
       "                               Vg                          1/4\n",
       "ENGLISH   Average              Average                     1/2\n",
       "                               Good                        1/2\n",
       "          Excellent            Excellent               165/217\n",
       "                               Good                     19/434\n",
       "                               Vg                       85/434\n",
       "          Good                 Average                    1/26\n",
       "                               Excellent                  1/26\n",
       "                               Good                      15/26\n",
       "                               Vg                         9/26\n",
       "          Vg                   Average                    1/35\n",
       "                               Excellent                  6/35\n",
       "                               Good                        1/5\n",
       "                               Vg                          3/5\n",
       "OTHERS    Average              Good                        3/4\n",
       "                               Vg                          1/4\n",
       "          Excellent            Excellent                 14/19\n",
       "                               Good                       1/19\n",
       "                               Vg                         4/19\n",
       "          Good                 Average                     1/9\n",
       "                               Excellent                   1/9\n",
       "                               Good                        5/9\n",
       "                               Vg                          2/9\n",
       "          Vg                   Average                    1/23\n",
       "                               Excellent                  4/23\n",
       "                               Good                       3/23\n",
       "                               Vg                        15/23\n",
       "dtype: object"
      ]
     },
     "execution_count": 32,
     "metadata": {},
     "output_type": "execute_result"
    }
   ],
   "source": [
    "P_class_xii_given_class_x_and_medium = P_class_xii_given_class_x_and_medium.apply(lambda x: Fraction(x).limit_denominator())\n",
    "P_class_xii_given_class_x_and_medium"
   ]
  },
  {
   "cell_type": "code",
   "execution_count": 33,
   "id": "3fc4f71d",
   "metadata": {},
   "outputs": [],
   "source": [
    "# Conditional probabilities of P(performance | Class XII percentage,Coaching )\n",
    "P_performance_given_class_xii_and_coaching = data.groupby(['coaching', 'Class_XII_Percentage', 'Performance']).size() / data.groupby(['coaching', 'Class_XII_Percentage']).size()\n",
    "P_performance_given_class_xii_and_coaching = P_performance_given_class_xii_and_coaching.apply(lambda x: Fraction(x).limit_denominator())"
   ]
  },
  {
   "cell_type": "code",
   "execution_count": 34,
   "id": "64ff8827",
   "metadata": {},
   "outputs": [
    {
     "data": {
      "text/plain": [
       "coaching  Class_XII_Percentage  Performance\n",
       "NO        Average               Average           5/7\n",
       "                                Good              1/7\n",
       "                                Vg                1/7\n",
       "          Excellent             Average         19/99\n",
       "                                Excellent        5/33\n",
       "                                Good            34/99\n",
       "                                Vg              31/99\n",
       "          Good                  Average           1/2\n",
       "                                Excellent         1/9\n",
       "                                Good             5/18\n",
       "                                Vg                1/9\n",
       "          Vg                    Average          7/26\n",
       "                                Excellent        3/26\n",
       "                                Good             6/13\n",
       "                                Vg               2/13\n",
       "OA        Average               Good                1\n",
       "          Excellent             Average          5/46\n",
       "                                Excellent       19/46\n",
       "                                Good            13/46\n",
       "                                Vg               9/46\n",
       "          Good                  Average           1/5\n",
       "                                Excellent         1/5\n",
       "                                Good              1/5\n",
       "                                Vg                2/5\n",
       "          Vg                    Average           1/5\n",
       "                                Excellent        4/15\n",
       "                                Good              1/3\n",
       "                                Vg                1/5\n",
       "WA        Average               Average           1/4\n",
       "                                Excellent         1/2\n",
       "                                Good              1/4\n",
       "          Excellent             Average          3/23\n",
       "                                Excellent        4/23\n",
       "                                Good           78/253\n",
       "                                Vg             98/253\n",
       "          Good                  Average         27/52\n",
       "                                Excellent        3/26\n",
       "                                Good              1/4\n",
       "                                Vg               3/26\n",
       "          Vg                    Average        47/140\n",
       "                                Excellent        1/28\n",
       "                                Good            23/70\n",
       "                                Vg               3/10\n",
       "dtype: object"
      ]
     },
     "execution_count": 34,
     "metadata": {},
     "output_type": "execute_result"
    }
   ],
   "source": [
    "P_performance_given_class_xii_and_coaching"
   ]
  },
  {
   "cell_type": "markdown",
   "id": "1cf9e484",
   "metadata": {},
   "source": [
    "### 6.3) Construction of the Bayesian Network"
   ]
  },
  {
   "cell_type": "code",
   "execution_count": 35,
   "id": "9883804f",
   "metadata": {},
   "outputs": [],
   "source": [
    "# We first declare the probabilities of our Independent variables\n",
    "from pomegranate.distributions import Categorical\n",
    "\n",
    "father = Categorical([[68/333, 265/333]])\n",
    "mother = Categorical([[221/333,64/333, 16/111]])\n",
    "medium = Categorical([[268/333,1/9,28/333]])\n",
    "coaching = Categorical([[25/111,449/666,67/666]])\n"
   ]
  },
  {
   "cell_type": "code",
   "execution_count": 36,
   "id": "1d23ddf5",
   "metadata": {},
   "outputs": [],
   "source": [
    "from pomegranate.distributions import ConditionalCategorical\n",
    "\n",
    "# Conditional Probabilities of Class 10 Performance given the Occupations of the Parents\n",
    "class10_MF = numpy.array([[\n",
    "     [[1/38, 11/76, 13/76, 25/38], [3/122, 19/366, 32/183, 137/183]],\n",
    "     [[0.0, 1/26, 7/52, 43/52], [0.0, 5/76, 2/19, 63/76]],\n",
    "     [[0.0, 1/4, 1/8, 5/8], [1/44, 1/44, 1/11, 19/22]]\n",
    "]]) \n",
    "\n",
    "# Conditional Probabilities of Class 12 Performance given the Class 10 performance and the medium used to teach class 12\n",
    "class12_m10 = numpy.array([[\n",
    "     [[1/2, 1/2, 0.0, 0.0], [2/3, 1/3, 0.0, 0.0], [0.0, 3/4, 1/4, 0.0]],\n",
    "     [[1/26, 15/26, 9/26, 1/26], [1/3, 1/2, 1/6, 0.0], [1/9, 5/9, 2/9, 1/9]],\n",
    "     [[1/35, 1/5, 3/5, 6/35], [0.0, 3/4, 1/4, 0.0], [1/23, 3/23, 15/23, 4/23]],\n",
    "     [[0.0, 19/434, 85/434, 165/217], [0.0, 1/39, 16/39, 22/39], [0.0, 1/19, 4/19, 14/19]]\n",
    "]])\n",
    "\n",
    "# Conditional Probabilities of CEE Performance given the class 10 performance and where the coaching was done\n",
    "CEE_10_C = numpy.array([[\n",
    "     [[5/7, 1/7, 1/7, 0.0], [1/4, 1/4, 0.0, 1/2], [0.0, 1.0, 0.0, 0.0]],\n",
    "     [[1/2, 5/18, 1/9, 1/9], [27/52, 1/4, 3/26, 3/26], [1/5, 1/5, 2/5, 1/5]],\n",
    "     [[7/26, 6/13, 2/13, 3/26], [47/140, 23/70, 3/10, 1/28], [1/5, 1/3, 1/5, 4/15]],\n",
    "     [[19/99, 34/99, 31/99, 5/33], [3/23, 78/253, 98/253, 4/23], [5/46, 13/46, 9/46, 19/46]]\n",
    "]])\n"
   ]
  },
  {
   "cell_type": "code",
   "execution_count": 37,
   "id": "d59da4f5",
   "metadata": {},
   "outputs": [],
   "source": [
    "class10 = ConditionalCategorical(class10_MF)\n",
    "class12 = ConditionalCategorical(class12_m10)\n",
    "CEE_per = ConditionalCategorical(CEE_10_C)"
   ]
  },
  {
   "cell_type": "code",
   "execution_count": 38,
   "id": "5225d77c",
   "metadata": {},
   "outputs": [],
   "source": [
    "# Defining our model\n",
    "from pomegranate.bayesian_network import BayesianNetwork\n",
    "\n",
    "model = BayesianNetwork([father, mother, medium, coaching, class10, class12, CEE_per], \n",
    "                        [(mother, class10), (father, class10), (class10, class12), (medium, class12),\n",
    "                        (class12, CEE_per), (coaching, CEE_per)])"
   ]
  },
  {
   "cell_type": "code",
   "execution_count": 39,
   "id": "a82ffe76",
   "metadata": {},
   "outputs": [],
   "source": [
    "States = [\"father\", \"mother\", \"medium\", \"coaching\", \"class10\", \"class12\", \"CEE_performance\"]\n",
    "Choices = [\n",
    "           [\"?\", \"TEACHER\", \"OTHERS\"],\n",
    "           [\"?\", \"HOUSEWIFE\", \"TEACHER\", \"OTHERS\"],\n",
    "           [\"?\", \"ENGLISH\", \"ASSAMESE\", \"OTHERS\"],\n",
    "            [\"?\", \"NO COACHING\", \"WITHIN ASSAM\", \"OUTSIDE ASSAM\"],\n",
    "            [\"?\", \"AVERAGE\", \"GOOD\", \"VERY GOOD\", \"EXCELLENT\"],\n",
    "            [\"?\", \"AVERAGE\", \"GOOD\", \"VERY GOOD\", \"EXCELLENT\"],\n",
    "            [\"?\", \"AVERAGE\", \"GOOD\", \"VERY GOOD\", \"EXCELLENT\"]\n",
    "          ]\n",
    "Situations = [\n",
    "              [ \"TEACHER\", \"HOUSEWIFE\", \"?\", \"?\", \"?\", \"?\", \"?\"],\n",
    "             ]"
   ]
  },
  {
   "cell_type": "code",
   "execution_count": 40,
   "id": "994750c0",
   "metadata": {},
   "outputs": [],
   "source": [
    "import torch\n",
    "import pomegranate"
   ]
  },
  {
   "cell_type": "code",
   "execution_count": 41,
   "id": "4d00a66d",
   "metadata": {},
   "outputs": [
    {
     "name": "stdout",
     "output_type": "stream",
     "text": [
      "Situations = [['TEACHER', 'HOUSEWIFE', '?', '?', '?', '?', '?']]\n",
      "Situations_mask = [[0, 0, -1, -1, -1, -1, -1]]\n"
     ]
    }
   ],
   "source": [
    "C = [[Choices[i].index(situation[i])-1 for i in range(len(situation))] for situation in Situations]\n",
    "print(f\"Situations = {Situations}\")\n",
    "print(f\"Situations_mask = {C}\")"
   ]
  },
  {
   "cell_type": "code",
   "execution_count": 42,
   "id": "af2e1d2d",
   "metadata": {},
   "outputs": [
    {
     "name": "stdout",
     "output_type": "stream",
     "text": [
      "{\n",
      "  \"question01\": {\n",
      "    \"situation\": ['father=TEACHER', 'mother=HOUSEWIFE', 'medium=?', 'coaching=?', 'class10=?', 'class12=?', 'CEE_performance=?']\n",
      "    \"inference\": [\n",
      "      {\"state\": \"medium\", \"choice\": \"ENGLISH\", \"probabilities\": [0.804804801940918, 0.1111111119389534, 0.08408408612012863], \"unique\": True},\n",
      "      {\"state\": \"coaching\", \"choice\": \"WITHIN ASSAM\", \"probabilities\": [0.22522522509098053, 0.6741741895675659, 0.10060060024261475], \"unique\": True},\n",
      "      {\"state\": \"class10\", \"choice\": \"EXCELLENT\", \"probabilities\": [0.02631578966975212, 0.14473684132099152, 0.17105263471603394, 0.6578947305679321], \"unique\": True},\n",
      "      {\"state\": \"class12\", \"choice\": \"EXCELLENT\", \"probabilities\": [0.028290491551160812, 0.16685757040977478, 0.2883244752883911, 0.5165274739265442], \"unique\": True},\n",
      "      {\"state\": \"CEE_performance\", \"choice\": \"GOOD\", \"probabilities\": [0.2518128752708435, 0.31594929099082947, 0.2803679406642914, 0.15186989307403564], \"unique\": True},\n",
      "    ],\n",
      "  },\n",
      "}\n"
     ]
    },
    {
     "name": "stderr",
     "output_type": "stream",
     "text": [
      "C:\\Users\\hp\\anaconda3\\envs\\da2023\\lib\\site-packages\\torch\\masked\\maskedtensor\\core.py:156: UserWarning: The PyTorch API of MaskedTensors is in prototype stage and will change in the near future. Please open a Github issue for features requests and see our documentation on the torch.masked module for further information about the project.\n",
      "  warnings.warn((\"The PyTorch API of MaskedTensors is in prototype stage \"\n"
     ]
    }
   ],
   "source": [
    "X = torch.tensor(C)\n",
    "X_masked = torch.masked.MaskedTensor(X, mask = X>=0)\n",
    "\n",
    "def uniqueChoice(probs):\n",
    "    return len([i for i,j in enumerate(probs) if j==max(probs)])==1\n",
    "\n",
    "print('{')\n",
    "results = model.predict(X_masked).tolist()\n",
    "beliefs = [x.tolist() for x in model.predict_proba(X_masked)]\n",
    "for ii in range(len(results)):\n",
    "  result = results[ii]\n",
    "  ss = Situations[ii]\n",
    "  print(f'  \"question{ii+1:02d}\": {{')\n",
    "  print(f'    \"situation\": {[\"{}={}\".format(States[j],ss[j]) for j in range(len(ss))]}')\n",
    "  RR = [[option,state,Choices[States.index(state)][choice+1],beliefs[States.index(state)][ii]] for state,choice,option in zip(States, result,Situations[ii])]\n",
    "  print('    \"inference\": [')\n",
    "  print('\\n'.join('      {{\"state\": \"{}\", \"choice\": \"{}\", \"probabilities\": {}, \"unique\": {}}},'.format(x[1],x[2],x[3],uniqueChoice(x[3])) for x in RR if x[0]=='?'))\n",
    "  print('    ],')\n",
    "  print('  },')\n",
    "print('}')"
   ]
  },
  {
   "cell_type": "markdown",
   "id": "2e35b366",
   "metadata": {},
   "source": [
    "   In above test we were trying to see that what is the probability that a student may perform EXCELLENT given that his father is a TEACHER and his mother is HOUSEWIFE? \n",
    "    \n",
    "   And we observed that the probability of EXCELLENT is just 15%, however its more probalbe that he may perfrom GOOD in CEE, with probability of 31.5%.\n",
    "    "
   ]
  },
  {
   "cell_type": "markdown",
   "id": "ba624fcc",
   "metadata": {},
   "source": [
    "## 7- Analysis of an example 1\n",
    "#### What are the  probabilities of all other factors given that he had taken ASSAMESE medium and had performed EXCELLENT in class 12 ?"
   ]
  },
  {
   "cell_type": "code",
   "execution_count": 147,
   "id": "69fa821e",
   "metadata": {},
   "outputs": [],
   "source": [
    "Situations = [\n",
    "              [ \"?\", \"?\", \"ASSAMESE\", \"?\", \"EXCELLENT\", \"?\", \"?\"],\n",
    "             ]"
   ]
  },
  {
   "cell_type": "code",
   "execution_count": 148,
   "id": "ef0c4b08",
   "metadata": {},
   "outputs": [
    {
     "name": "stdout",
     "output_type": "stream",
     "text": [
      "Situations = [['?', '?', 'ASSAMESE', '?', 'EXCELLENT', '?', '?']]\n",
      "Situations_mask = [[-1, -1, 1, -1, 3, -1, -1]]\n"
     ]
    }
   ],
   "source": [
    "C = [[Choices[i].index(situation[i])-1 for i in range(len(situation))] for situation in Situations]\n",
    "print(f\"Situations = {Situations}\")\n",
    "print(f\"Situations_mask = {C}\")\n",
    "\n",
    "X = torch.tensor(C)\n",
    "X_masked = torch.masked.MaskedTensor(X, mask = X>=0)"
   ]
  },
  {
   "cell_type": "code",
   "execution_count": 149,
   "id": "26769cf5",
   "metadata": {},
   "outputs": [
    {
     "name": "stdout",
     "output_type": "stream",
     "text": [
      "{\n",
      "[[1, 0, 1, 1, 3, 3, 1]]\n",
      "  \"question01\": {\n",
      "    \"situation\": ['father=?', 'mother=?', 'medium=ASSAMESE', 'coaching=?', 'class10=EXCELLENT', 'class12=?', 'CEE_performance=?']\n",
      "    \"inference\": [\n",
      "      {\"state\": \"father\", \"choice\": \"OTHERS\", \"probabilities\": [0.18392278254032135, 0.8160772323608398], \"unique\": True},\n",
      "      {\"state\": \"mother\", \"choice\": \"HOUSEWIFE\", \"probabilities\": [0.6365146040916443, 0.2091805636882782, 0.1543048918247223], \"unique\": True},\n",
      "      {\"state\": \"coaching\", \"choice\": \"WITHIN ASSAM\", \"probabilities\": [0.22522522509098053, 0.6741741895675659, 0.10060060024261475], \"unique\": True},\n",
      "      {\"state\": \"class12\", \"choice\": \"EXCELLENT\", \"probabilities\": [0.0, 0.025641025975346565, 0.41025641560554504, 0.5641025900840759], \"unique\": True},\n",
      "      {\"state\": \"CEE_performance\", \"choice\": \"GOOD\", \"probabilities\": [0.21852026879787445, 0.3306417763233185, 0.3073107898235321, 0.14352716505527496], \"unique\": True},\n",
      "    ],\n",
      "  },\n",
      "}\n"
     ]
    }
   ],
   "source": [
    "print('{')\n",
    "results = model.predict(X_masked).tolist()\n",
    "print(results)\n",
    "\n",
    "beliefs = [x.tolist() for x in model.predict_proba(X_masked)]\n",
    "for ii in range(len(results)):\n",
    "  result = results[ii]\n",
    "  ss = Situations[ii]\n",
    "  print(f'  \"question{ii+1:02d}\": {{')\n",
    "  print(f'    \"situation\": {[\"{}={}\".format(States[j],ss[j]) for j in range(len(ss))]}')\n",
    "  RR = [[option,state,Choices[States.index(state)][choice+1],beliefs[States.index(state)][ii]] for state,choice,option in zip(States, result,Situations[ii])]\n",
    "  print('    \"inference\": [')\n",
    "  print('\\n'.join('      {{\"state\": \"{}\", \"choice\": \"{}\", \"probabilities\": {}, \"unique\": {}}},'.format(x[1],x[2],x[3],uniqueChoice(x[3])) for x in RR if x[0]=='?'))\n",
    "  print('    ],')\n",
    "  print('  },')\n",
    "print('}')"
   ]
  },
  {
   "cell_type": "markdown",
   "id": "1c5b19ad",
   "metadata": {},
   "source": [
    "###### Results\n",
    "The results show that there is a 81.60% of chance that the father's occupation is OTHERS and 63.65% of mother being a housewife. Also, the only possible performance in class10 is Excellent for this situation. For the coaching, is most likely that was within assam, with approximaly 67.42%. Finally, for CEE performance the values for the good and very good probability were very close, with a difference of approximaly 0.038, the higher one being very good."
   ]
  },
  {
   "cell_type": "markdown",
   "id": "ba001a75",
   "metadata": {},
   "source": [
    "## 8- Analysis of an example 2\n",
    "#### What is the probability that a student may perform EXCELLENT given that he took NO COACHING and had peroformed AVERAGE in 12th Class?"
   ]
  },
  {
   "cell_type": "code",
   "execution_count": 43,
   "id": "8040c7d1",
   "metadata": {},
   "outputs": [],
   "source": [
    "\n",
    "Situations = [\n",
    "              [\"?\", \"?\", \"?\", \"NO COACHING\", \"?\", \"AVERAGE\", \"EXCELLENT\"],\n",
    "             ]"
   ]
  },
  {
   "cell_type": "code",
   "execution_count": 44,
   "id": "fe783cb4",
   "metadata": {
    "scrolled": true
   },
   "outputs": [
    {
     "name": "stdout",
     "output_type": "stream",
     "text": [
      "Situations = [['?', '?', '?', 'NO COACHING', '?', 'AVERAGE', 'EXCELLENT']]\n",
      "Situations_mask = [[-1, -1, -1, 0, -1, 0, 3]]\n"
     ]
    }
   ],
   "source": [
    "C = [[Choices[i].index(situation[i])-1 for i in range(len(situation))] for situation in Situations]\n",
    "print(f\"Situations = {Situations}\")\n",
    "print(f\"Situations_mask = {C}\")\n",
    "\n",
    "X = torch.tensor(C)\n",
    "X_masked = torch.masked.MaskedTensor(X, mask = X>=0)"
   ]
  },
  {
   "cell_type": "code",
   "execution_count": 45,
   "id": "dfcdc306",
   "metadata": {},
   "outputs": [
    {
     "name": "stdout",
     "output_type": "stream",
     "text": [
      "{\n",
      "[[0, 0, 0, 0, 0, 0, 0]]\n",
      "  \"question01\": {\n",
      "    \"situation\": ['father=?', 'mother=?', 'medium=?', 'coaching=NO COACHING', 'class10=?', 'class12=AVERAGE', 'CEE_performance=EXCELLENT']\n",
      "    \"inference\": [\n",
      "      {\"state\": \"father\", \"choice\": \"TEACHER\", \"probabilities\": [nan, nan], \"unique\": False},\n",
      "      {\"state\": \"mother\", \"choice\": \"HOUSEWIFE\", \"probabilities\": [nan, nan, nan], \"unique\": False},\n",
      "      {\"state\": \"medium\", \"choice\": \"ENGLISH\", \"probabilities\": [nan, nan, nan], \"unique\": False},\n",
      "      {\"state\": \"class10\", \"choice\": \"AVERAGE\", \"probabilities\": [nan, nan, nan, nan], \"unique\": False},\n",
      "    ],\n",
      "  },\n",
      "}\n"
     ]
    }
   ],
   "source": [
    "print('{')\n",
    "results = model.predict(X_masked).tolist()\n",
    "print(results)\n",
    "\n",
    "beliefs = [x.tolist() for x in model.predict_proba(X_masked)]\n",
    "for ii in range(len(results)):\n",
    "  result = results[ii]\n",
    "  ss = Situations[ii]\n",
    "  print(f'  \"question{ii+1:02d}\": {{')\n",
    "  print(f'    \"situation\": {[\"{}={}\".format(States[j],ss[j]) for j in range(len(ss))]}')\n",
    "  RR = [[option,state,Choices[States.index(state)][choice+1],beliefs[States.index(state)][ii]] for state,choice,option in zip(States, result,Situations[ii])]\n",
    "  print('    \"inference\": [')\n",
    "  print('\\n'.join('      {{\"state\": \"{}\", \"choice\": \"{}\", \"probabilities\": {}, \"unique\": {}}},'.format(x[1],x[2],x[3],uniqueChoice(x[3])) for x in RR if x[0]=='?'))\n",
    "  print('    ],')\n",
    "  print('  },')\n",
    "print('}')"
   ]
  },
  {
   "cell_type": "markdown",
   "id": "245c2d37",
   "metadata": {},
   "source": [
    "###### Results\n",
    "As shown, the results given were NaN. This is an example of a question that does not work with our model.\n",
    "The conditional probability being equal to zero in a Bayesian network indicates that this combination of values for the variables involved is impossible according to our defined model. \n",
    "In summary, if someone with no coaching performs average in class 10, there is no way to perform Excellent."
   ]
  },
  {
   "cell_type": "markdown",
   "id": "be6a2649",
   "metadata": {},
   "source": [
    "## 9- Pros and Cons of the Approach used \n",
    "\n",
    "#### Pros:\n",
    "1. *Customization:*\n",
    "   - We had full control over the implementation, allowing for specific customizations and adaptations to our unique dataset and requirements.\n",
    "2. *Learning Experience:*\n",
    "   - Implementing the Bayesian Network from scratch provides a valuable learning experience, enhancing our understanding of the theory and practical applications.\n",
    "3. *No Library Dependencies:*\n",
    "   - our implementation is not dependent on external libraries, reducing potential compatibility or dependency issues.\n",
    "\n",
    "### Cons:\n",
    "1. *Complexity:*\n",
    "   - Implementing Bayesian Networks manually can be complex and time-consuming, especially for those unfamiliar with the underlying mathematical concepts.\n",
    "2. *Error-Prone:*\n",
    "   - Without the validation and error handling built into libraries, manual implementations can be more susceptible to mistakes.\n",
    "3. *Efficiency:*\n",
    "   - Manual implementations may not be as efficient or optimized as those provided by well-maintained libraries, potentially leading to performance issues with larger datasets.\n",
    "\n",
    "HOWEVER, \n",
    "It should be noted that\n",
    "Although Bayesian Networks are excellent for probabilistic reasoning and uncertainty management providing a graphical and mathematical representation of dependencies among variables making it highly interpretable, Bayesian Networks rely on the assumption of conditional independence, which might not always hold true in real-world scenarios and Even though they can work with limited data by incorporating prior knowledge, Bayesian Networks still require sufficient data to estimate conditional probability distributions accurately.Finally, in many cases, continuous variables need to be discretized, which can lead to a loss of information and precision."
   ]
  },
  {
   "cell_type": "markdown",
   "id": "599cf2a2",
   "metadata": {},
   "source": [
    "## 10- Future improvements\n",
    "##### 1. *Data Enhancement:*\n",
    "   - *Attribute Expansion:* We could Introduce more attributes that can influence the student's performance, such as health status, attendance etc..\n",
    "##### 2. *Model Complexity:*\n",
    "   - *Interactions:* Explore more complex interactions between attributes. Currently, the model is relatively simple. Adding more edges and considering indirect influences can make the model more comprehensive.\n",
    "   - *Factors:* Considering larger data set , having more possible combinations and connections between the features.\n",
    "##### 3. *Algorithm Enhancement:*\n",
    "   - *Learning Algorithms:* Explore different algorithms for learning the structure and parameters of the Bayesian Network to optimize performance.\n",
    "##### 4. *Validation and Testing:*\n",
    "   - *Cross-Validation:* Implement cross-validation techniques to validate the model's performance more rigorously."
   ]
  },
  {
   "cell_type": "markdown",
   "id": "cb4a4164",
   "metadata": {},
   "source": [
    "## References\n",
    "\n",
    "1- https://www.cs.cmu.edu/~dmarg/Papers/PhD-Thesis-Margaritis.pdf\n",
    " \"Learning Bayesian Network Model Structure from Data\"\n",
    " \n",
    "2- https://link.springer.com/chapter/10.1007/978-3-540-85066-3_5\n",
    "\"An Introduction to Bayesian Networks and Their Contemporary Applications\"\n",
    "\n",
    "3-https://www.tandfonline.com/doi/full/10.1080/08957347.2022.2103134\n",
    "\"Using Bayesian Networks to Characterize Student Performance across Multiple Assessments of Individual Standards\"\n",
    "\n",
    "4- https://link.springer.com/article/10.1007/s10479-022-04871-5\n",
    "\"A Bayesian network to analyse basketball players’ performances: a multivariate copula-based approach\"\n",
    "\n",
    "5- https://www.researchgate.net/publication/257811720_Student_Engagement_Modeling_Using_Bayesian_Networks\n",
    "\"Student Engagement Modeling Using Bayesian Networks\"  "
   ]
  },
  {
   "cell_type": "code",
   "execution_count": null,
   "id": "bcd566ea",
   "metadata": {},
   "outputs": [],
   "source": []
  }
 ],
 "metadata": {
  "kernelspec": {
   "display_name": "Python 3 (ipykernel)",
   "language": "python",
   "name": "python3"
  },
  "language_info": {
   "codemirror_mode": {
    "name": "ipython",
    "version": 3
   },
   "file_extension": ".py",
   "mimetype": "text/x-python",
   "name": "python",
   "nbconvert_exporter": "python",
   "pygments_lexer": "ipython3",
   "version": "3.9.13"
  }
 },
 "nbformat": 4,
 "nbformat_minor": 5
}
